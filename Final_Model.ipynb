{
 "cells": [
  {
   "cell_type": "markdown",
   "metadata": {},
   "source": [
    "# Modeling"
   ]
  },
  {
   "attachments": {
    "istockphoto-1166279866-612x612.jpg": {
     "image/jpeg": "[encoded data removed]"
    }
   },
   "cell_type": "markdown",
   "metadata": {},
   "source": [
    "![istockphoto-1166279866-612x612.jpg](attachment:istockphoto-1166279866-612x612.jpg)"
   ]
  },
  {
   "cell_type": "markdown",
   "metadata": {},
   "source": [
    "# Overview"
   ]
  },
  {
   "cell_type": "markdown",
   "metadata": {},
   "source": [
    "The Instacart dataset contains historical order information, including product details, user behavior, and order characteristics. Our goal is to use a predictive model to analyze which features influence a customer's likelihood to reorder organic products. By examining the model's coefficients, we can gain insights into which features have the most significant impact on the prediction."
   ]
  },
  {
   "cell_type": "markdown",
   "metadata": {},
   "source": [
    "## Findings & Recommendations\n",
    "\n",
    "By implementing these recommendations, GreenGrocer can enhance customer satisfaction, increase customer retention, and drive higher reorder rates, ultimately leading to improved business performance and growth."
   ]
  },
  {
   "cell_type": "markdown",
   "metadata": {},
   "source": [
    "1. **Promote Organic Produce:**\n",
    "    - Customers who previously ordered organic products are approximately 1.33 times more likely to reorder organic products in their upcoming order.\n",
    "    - Targeted marketing campaigns on organic products\n",
    "    - Highlight the benefits of organic items to attract and retain customers"
   ]
  },
  {
   "cell_type": "markdown",
   "metadata": {},
   "source": [
    "2. **Encourage Frequent Purchases:**\n",
    "    - Implement Loyalty programs & Subscription options\n",
    "    - Personalize recommendations based on purchase history/frequent purchases"
   ]
  },
  {
   "cell_type": "markdown",
   "metadata": {},
   "source": [
    "3. **Leverage Basket Size:**\n",
    "    - Implement strategies to encourage customers to add more items to carts\n",
    "    - Bundle related products\n",
    "    - Special deals for bulk purchases"
   ]
  },
  {
   "cell_type": "markdown",
   "metadata": {},
   "source": [
    "4. **Enhance Product Placement:**\n",
    "    - Products added later to the cart have a lower chance of being reordered. Explore ways to streamline the add-to-cart process and ensure that customers find what they need quickly\n",
    "    - Optimize the user interface for easier shopping\n",
    "    - Implement \"quick add\" or one-click reordering features"
   ]
  },
  {
   "cell_type": "markdown",
   "metadata": {},
   "source": [
    "## Data Preperation"
   ]
  },
  {
   "cell_type": "code",
   "execution_count": 1,
   "metadata": {},
   "outputs": [],
   "source": [
    "#imports\n",
    "import pandas as pd\n",
    "import numpy as np\n",
    "import scipy\n",
    "import os\n",
    "import seaborn as sns\n",
    "from matplotlib import pyplot as plt\n",
    "\n",
    "from sklearn.linear_model import LogisticRegression\n",
    "from sklearn.tree import DecisionTreeClassifier\n",
    "from sklearn.model_selection import train_test_split\n",
    "from sklearn.metrics import f1_score, classification_report\n",
    "import xgboost as xgb\n",
    "\n",
    "\n",
    "import warnings\n",
    "warnings.filterwarnings('ignore')"
   ]
  },
  {
   "cell_type": "code",
   "execution_count": 2,
   "metadata": {},
   "outputs": [],
   "source": [
    "#read in files\n",
    "aisle = pd.read_csv('data/aisles.csv')\n",
    "department = pd.read_csv('data/departments.csv')\n",
    "orders = pd.read_csv('data/orders.csv')\n",
    "products = pd.read_csv('data/products.csv')\n",
    "order_products_prior = pd.read_csv('data/order_products__prior.csv')"
   ]
  },
  {
   "cell_type": "code",
   "execution_count": null,
   "metadata": {},
   "outputs": [],
   "source": [
    "dataframes = ['aisle', 'department', 'orders', 'order_products_prior', 'products']\n",
    "\n",
    "for df_name in dataframes:\n",
    "    df = globals()[df_name]\n",
    "    print(f\"DataFrame: {df_name}\")\n",
    "    print(\"Number of rows:\", len(df))\n",
    "    display(df.head())\n",
    "    print(\"Info:\")\n",
    "    display(df.info())\n",
    "    print(\"Describe:\")\n",
    "    display(df.describe())\n",
    "    print(\"=\" * 40)"
   ]
  },
  {
   "cell_type": "code",
   "execution_count": 3,
   "metadata": {},
   "outputs": [],
   "source": [
    "#capping the days since to 29 to avoid outliers\n",
    "orders = orders.loc[orders['days_since_prior_order'] <= 29]"
   ]
  },
  {
   "cell_type": "code",
   "execution_count": 5,
   "metadata": {},
   "outputs": [],
   "source": [
    "#creating a column of if a product is organic or not\n",
    "products['organic'] = products['product_name'].str.lower().str.contains('organic').astype(int)"
   ]
  },
  {
   "cell_type": "code",
   "execution_count": 6,
   "metadata": {},
   "outputs": [],
   "source": [
    "#creating an organic produce column\n",
    "products['organic_produce'] = np.where((products['organic'] == 1) & (products['department_id'] == 4), 1, 0)"
   ]
  },
  {
   "cell_type": "code",
   "execution_count": 4,
   "metadata": {},
   "outputs": [],
   "source": [
    "#merging files together\n",
    "df = products.merge(order_products_prior,on='product_id', how='inner')\n",
    "df = pd.merge(df, aisle, on='aisle_id', how='inner')\n",
    "df = pd.merge(df, department, on='department_id', how='inner')\n",
    "df = pd.merge(df, orders, on='order_id', how='inner')"
   ]
  },
  {
   "cell_type": "code",
   "execution_count": 7,
   "metadata": {
    "scrolled": true
   },
   "outputs": [],
   "source": [
    "#creating an organic dataframe and dropping unused and categorical columns for modeling\n",
    "organic_mod= df.loc[df['organic'] == 1]\n",
    "organic_mod = organic_mod.drop(['organic','product_name','aisle', 'department','eval_set'], axis=1)"
   ]
  },
  {
   "cell_type": "markdown",
   "metadata": {},
   "source": [
    "## Feature Engineering"
   ]
  },
  {
   "cell_type": "markdown",
   "metadata": {},
   "source": [
    "The features used to build our models are:\n",
    "\n",
    "- Order_id\n",
    "- Order_number\n",
    "- Average_days_between_orders\n",
    "- Basket_size\n",
    "- Aisle\n",
    "- Department\n",
    "- Product\n",
    "- User_id\n",
    "- Order_hour_of_day\n",
    "- Order_dow(day of week)\n",
    "- Average Product Position in cart\n",
    "- Average days since a product was ordered"
   ]
  },
  {
   "cell_type": "code",
   "execution_count": 8,
   "metadata": {},
   "outputs": [],
   "source": [
    "#Adding column average days between a users orders using days_since_prior_order\n",
    "organic_mod['avg_days_btn_orders'] = organic_mod.groupby('user_id')['days_since_prior_order'].mean().astype(np.float32)\n",
    "organic_mod['avg_days_btn_orders'] = organic_mod['avg_days_btn_orders'].replace(np.nan, 1)"
   ]
  },
  {
   "cell_type": "code",
   "execution_count": 9,
   "metadata": {
    "scrolled": true
   },
   "outputs": [],
   "source": [
    "#adding a column 'basket_size' for the number of products in each order\n",
    "organic_mod['basket_size'] = organic_mod.groupby('order_id')['product_id'].transform('count')"
   ]
  },
  {
   "cell_type": "code",
   "execution_count": 10,
   "metadata": {
    "scrolled": true
   },
   "outputs": [],
   "source": [
    "#adding a column 'avg_prod_cart_position' for the average placement of a product in a user cart\n",
    "organic_mod['avg_prod_position'] = organic_mod.groupby('product_id')['add_to_cart_order'].transform('mean')"
   ]
  },
  {
   "cell_type": "code",
   "execution_count": 11,
   "metadata": {},
   "outputs": [],
   "source": [
    "#adding a column for the average days since a product was ordered\n",
    "organic_mod['avg_days_since_last_order_product'] = organic_mod.groupby('product_id')['days_since_prior_order'].transform('mean')"
   ]
  },
  {
   "cell_type": "markdown",
   "metadata": {},
   "source": [
    "Checking for any missing data before splitting the data"
   ]
  },
  {
   "cell_type": "code",
   "execution_count": 17,
   "metadata": {
    "scrolled": false
   },
   "outputs": [
    {
     "data": {
      "text/html": [
       "<div>\n",
       "<style scoped>\n",
       "    .dataframe tbody tr th:only-of-type {\n",
       "        vertical-align: middle;\n",
       "    }\n",
       "\n",
       "    .dataframe tbody tr th {\n",
       "        vertical-align: top;\n",
       "    }\n",
       "\n",
       "    .dataframe thead th {\n",
       "        text-align: right;\n",
       "    }\n",
       "</style>\n",
       "<table border=\"1\" class=\"dataframe\">\n",
       "  <thead>\n",
       "    <tr style=\"text-align: right;\">\n",
       "      <th></th>\n",
       "      <th>Column</th>\n",
       "      <th>MissingPercentage</th>\n",
       "    </tr>\n",
       "  </thead>\n",
       "  <tbody>\n",
       "    <tr>\n",
       "      <th>product_id</th>\n",
       "      <td>product_id</td>\n",
       "      <td>0.0</td>\n",
       "    </tr>\n",
       "    <tr>\n",
       "      <th>aisle_id</th>\n",
       "      <td>aisle_id</td>\n",
       "      <td>0.0</td>\n",
       "    </tr>\n",
       "    <tr>\n",
       "      <th>department_id</th>\n",
       "      <td>department_id</td>\n",
       "      <td>0.0</td>\n",
       "    </tr>\n",
       "    <tr>\n",
       "      <th>order_id</th>\n",
       "      <td>order_id</td>\n",
       "      <td>0.0</td>\n",
       "    </tr>\n",
       "    <tr>\n",
       "      <th>add_to_cart_order</th>\n",
       "      <td>add_to_cart_order</td>\n",
       "      <td>0.0</td>\n",
       "    </tr>\n",
       "    <tr>\n",
       "      <th>reordered</th>\n",
       "      <td>reordered</td>\n",
       "      <td>0.0</td>\n",
       "    </tr>\n",
       "    <tr>\n",
       "      <th>user_id</th>\n",
       "      <td>user_id</td>\n",
       "      <td>0.0</td>\n",
       "    </tr>\n",
       "    <tr>\n",
       "      <th>order_number</th>\n",
       "      <td>order_number</td>\n",
       "      <td>0.0</td>\n",
       "    </tr>\n",
       "    <tr>\n",
       "      <th>order_dow</th>\n",
       "      <td>order_dow</td>\n",
       "      <td>0.0</td>\n",
       "    </tr>\n",
       "    <tr>\n",
       "      <th>order_hour_of_day</th>\n",
       "      <td>order_hour_of_day</td>\n",
       "      <td>0.0</td>\n",
       "    </tr>\n",
       "    <tr>\n",
       "      <th>days_since_prior_order</th>\n",
       "      <td>days_since_prior_order</td>\n",
       "      <td>0.0</td>\n",
       "    </tr>\n",
       "    <tr>\n",
       "      <th>organic_produce</th>\n",
       "      <td>organic_produce</td>\n",
       "      <td>0.0</td>\n",
       "    </tr>\n",
       "    <tr>\n",
       "      <th>is_weekend</th>\n",
       "      <td>is_weekend</td>\n",
       "      <td>0.0</td>\n",
       "    </tr>\n",
       "    <tr>\n",
       "      <th>avg_days_btn_orders</th>\n",
       "      <td>avg_days_btn_orders</td>\n",
       "      <td>0.0</td>\n",
       "    </tr>\n",
       "    <tr>\n",
       "      <th>basket_size</th>\n",
       "      <td>basket_size</td>\n",
       "      <td>0.0</td>\n",
       "    </tr>\n",
       "    <tr>\n",
       "      <th>avg_prod_position</th>\n",
       "      <td>avg_prod_position</td>\n",
       "      <td>0.0</td>\n",
       "    </tr>\n",
       "    <tr>\n",
       "      <th>avg_days_since_last_order_product</th>\n",
       "      <td>avg_days_since_last_order_product</td>\n",
       "      <td>0.0</td>\n",
       "    </tr>\n",
       "  </tbody>\n",
       "</table>\n",
       "</div>"
      ],
      "text/plain": [
       "                                                              Column  \\\n",
       "product_id                                                product_id   \n",
       "aisle_id                                                    aisle_id   \n",
       "department_id                                          department_id   \n",
       "order_id                                                    order_id   \n",
       "add_to_cart_order                                  add_to_cart_order   \n",
       "reordered                                                  reordered   \n",
       "user_id                                                      user_id   \n",
       "order_number                                            order_number   \n",
       "order_dow                                                  order_dow   \n",
       "order_hour_of_day                                  order_hour_of_day   \n",
       "days_since_prior_order                        days_since_prior_order   \n",
       "organic_produce                                      organic_produce   \n",
       "is_weekend                                                is_weekend   \n",
       "avg_days_btn_orders                              avg_days_btn_orders   \n",
       "basket_size                                              basket_size   \n",
       "avg_prod_position                                  avg_prod_position   \n",
       "avg_days_since_last_order_product  avg_days_since_last_order_product   \n",
       "\n",
       "                                   MissingPercentage  \n",
       "product_id                                       0.0  \n",
       "aisle_id                                         0.0  \n",
       "department_id                                    0.0  \n",
       "order_id                                         0.0  \n",
       "add_to_cart_order                                0.0  \n",
       "reordered                                        0.0  \n",
       "user_id                                          0.0  \n",
       "order_number                                     0.0  \n",
       "order_dow                                        0.0  \n",
       "order_hour_of_day                                0.0  \n",
       "days_since_prior_order                           0.0  \n",
       "organic_produce                                  0.0  \n",
       "is_weekend                                       0.0  \n",
       "avg_days_btn_orders                              0.0  \n",
       "basket_size                                      0.0  \n",
       "avg_prod_position                                0.0  \n",
       "avg_days_since_last_order_product                0.0  "
      ]
     },
     "execution_count": 17,
     "metadata": {},
     "output_type": "execute_result"
    }
   ],
   "source": [
    "# Calculate the percentage of missing values in each column\n",
    "missing_percentage = (organic_mod.isnull().sum() / len(organic_mod)) * 100\n",
    "# Create a new DataFrame to store the missing percentage for each column\n",
    "missing_data = pd.DataFrame({'Column': organic_mod.columns, 'MissingPercentage': missing_percentage})\n",
    "# Print the missing percentage for each column\n",
    "missing_data"
   ]
  },
  {
   "cell_type": "markdown",
   "metadata": {},
   "source": [
    "There no missing values and all columns are numeric"
   ]
  },
  {
   "cell_type": "code",
   "execution_count": 13,
   "metadata": {},
   "outputs": [
    {
     "name": "stdout",
     "output_type": "stream",
     "text": [
      "<class 'pandas.core.frame.DataFrame'>\n",
      "Int64Index: 8786162 entries, 10 to 27286351\n",
      "Data columns (total 16 columns):\n",
      " #   Column                             Dtype  \n",
      "---  ------                             -----  \n",
      " 0   product_id                         int64  \n",
      " 1   aisle_id                           int64  \n",
      " 2   department_id                      int64  \n",
      " 3   order_id                           int64  \n",
      " 4   add_to_cart_order                  int64  \n",
      " 5   reordered                          int64  \n",
      " 6   user_id                            int64  \n",
      " 7   order_number                       int64  \n",
      " 8   order_dow                          int64  \n",
      " 9   order_hour_of_day                  int64  \n",
      " 10  days_since_prior_order             float64\n",
      " 11  organic_produce                    int32  \n",
      " 12  avg_days_btn_orders                float32\n",
      " 13  basket_size                        int64  \n",
      " 14  avg_prod_position                  float64\n",
      " 15  avg_days_since_last_order_product  float64\n",
      "dtypes: float32(1), float64(3), int32(1), int64(11)\n",
      "memory usage: 1.0 GB\n"
     ]
    }
   ],
   "source": [
    "#checking final features\n",
    "organic_mod.info()"
   ]
  },
  {
   "cell_type": "markdown",
   "metadata": {},
   "source": [
    "** **\n",
    "# Modeling"
   ]
  },
  {
   "cell_type": "markdown",
   "metadata": {},
   "source": [
    "### Train Test Split"
   ]
  },
  {
   "cell_type": "markdown",
   "metadata": {},
   "source": [
    "I am using reordered as my target variable and have 14 features"
   ]
  },
  {
   "cell_type": "code",
   "execution_count": 14,
   "metadata": {},
   "outputs": [
    {
     "data": {
      "text/plain": [
       "1    0.692927\n",
       "0    0.307073\n",
       "Name: reordered, dtype: float64"
      ]
     },
     "execution_count": 14,
     "metadata": {},
     "output_type": "execute_result"
    }
   ],
   "source": [
    "#checking class balance\n",
    "organic_mod['reordered'].value_counts(normalize=True)"
   ]
  },
  {
   "cell_type": "code",
   "execution_count": 15,
   "metadata": {},
   "outputs": [],
   "source": [
    "# Separate features and target\n",
    "X = organic_mod.drop('reordered', axis=1) #features\n",
    "y = organic_mod['reordered'] #target\n",
    "\n",
    "# Train-test split\n",
    "X_train, X_test, y_train, y_test = train_test_split(X, y, test_size=0.2, stratify=y, random_state=42)"
   ]
  },
  {
   "cell_type": "markdown",
   "metadata": {},
   "source": [
    "** **\n",
    "## Decision Tree Classifier (Baseline)"
   ]
  },
  {
   "cell_type": "code",
   "execution_count": 16,
   "metadata": {
    "scrolled": false
   },
   "outputs": [
    {
     "name": "stdout",
     "output_type": "stream",
     "text": [
      "Train F1-Score: 1.0\n",
      "Test F1-Score: 0.758637608086451\n",
      "Classification Report:\n",
      "               precision    recall  f1-score   support\n",
      "\n",
      "           0       0.46      0.48      0.47    539599\n",
      "           1       0.76      0.75      0.76   1217634\n",
      "\n",
      "    accuracy                           0.67   1757233\n",
      "   macro avg       0.61      0.61      0.61   1757233\n",
      "weighted avg       0.67      0.67      0.67   1757233\n",
      "\n"
     ]
    }
   ],
   "source": [
    "#instantiate a DecisionTreeClassifier\n",
    "tree_model_base = DecisionTreeClassifier(random_state=42)\n",
    "\n",
    "#fit the model on the train data\n",
    "tree_model_base.fit(X_train, y_train)\n",
    "\n",
    "#make predictions\n",
    "y_pred_base = tree_model_base.predict(X_test)\n",
    "tree_train_pred_base = tree_model_base.predict(X_train)\n",
    "\n",
    "print(\"Train F1-Score:\", f1_score(y_train, tree_train_pred_base))\n",
    "print(\"Test F1-Score:\", f1_score(y_test, y_pred_base))\n",
    "\n",
    "# Display classification report\n",
    "print(\"Classification Report:\\n\", classification_report(y_test, y_pred_base))"
   ]
  },
  {
   "cell_type": "markdown",
   "metadata": {},
   "source": [
    "#### Model Interpretation"
   ]
  },
  {
   "cell_type": "markdown",
   "metadata": {},
   "source": [
    "Overall, the baseline model seems to have good precision and recall for both classes, with class 1 having slightly higher scores. However, since the model's training F1-score is perfect, there is a strong possibility of overfitting, which i'll work on next"
   ]
  },
  {
   "cell_type": "markdown",
   "metadata": {},
   "source": [
    "I will run another Decision Tree Classifier this time with a max depth of 7 to see if we can reduce the overfitting."
   ]
  },
  {
   "cell_type": "markdown",
   "metadata": {},
   "source": [
    "## Decision Tree Classifier"
   ]
  },
  {
   "cell_type": "code",
   "execution_count": 17,
   "metadata": {
    "scrolled": true
   },
   "outputs": [
    {
     "name": "stdout",
     "output_type": "stream",
     "text": [
      "Train F1-Score: 0.8286801563157747\n",
      "Test F1-Score: 0.8284152293583541\n",
      "Classification Report:\n",
      "               precision    recall  f1-score   support\n",
      "\n",
      "           0       0.63      0.39      0.48    539599\n",
      "           1       0.77      0.90      0.83   1217634\n",
      "\n",
      "    accuracy                           0.74   1757233\n",
      "   macro avg       0.70      0.64      0.65   1757233\n",
      "weighted avg       0.73      0.74      0.72   1757233\n",
      "\n"
     ]
    }
   ],
   "source": [
    "#instantiate a DecisionTreeClassifier with a max_depth of 7\n",
    "tree_model = DecisionTreeClassifier(max_depth=7,random_state=42)\n",
    "\n",
    "#fit the model on the train data\n",
    "tree_model.fit(X_train, y_train)\n",
    "\n",
    "#make predictions on test and train data\n",
    "y_pred = tree_model.predict(X_test)\n",
    "tree_train_pred = tree_model.predict(X_train)\n",
    "\n",
    "print(\"Train F1-Score:\", f1_score(y_train, tree_train_pred))\n",
    "print(\"Test F1-Score:\", f1_score(y_test, y_pred))\n",
    "\n",
    "# Display classification report\n",
    "print(\"Classification Report:\\n\", classification_report(y_test, y_pred))"
   ]
  },
  {
   "cell_type": "markdown",
   "metadata": {},
   "source": [
    "#### Model Interpretation"
   ]
  },
  {
   "cell_type": "markdown",
   "metadata": {},
   "source": []
  },
  {
   "cell_type": "markdown",
   "metadata": {},
   "source": [
    "Next lets check the feature imporantance from the Decision Tree Classifier"
   ]
  },
  {
   "cell_type": "code",
   "execution_count": 23,
   "metadata": {},
   "outputs": [
    {
     "name": "stdout",
     "output_type": "stream",
     "text": [
      "Top 10 Features:\n"
     ]
    },
    {
     "data": {
      "text/html": [
       "<div>\n",
       "<style scoped>\n",
       "    .dataframe tbody tr th:only-of-type {\n",
       "        vertical-align: middle;\n",
       "    }\n",
       "\n",
       "    .dataframe tbody tr th {\n",
       "        vertical-align: top;\n",
       "    }\n",
       "\n",
       "    .dataframe thead th {\n",
       "        text-align: right;\n",
       "    }\n",
       "</style>\n",
       "<table border=\"1\" class=\"dataframe\">\n",
       "  <thead>\n",
       "    <tr style=\"text-align: right;\">\n",
       "      <th></th>\n",
       "      <th>Feature</th>\n",
       "      <th>Importance</th>\n",
       "    </tr>\n",
       "  </thead>\n",
       "  <tbody>\n",
       "    <tr>\n",
       "      <th>6</th>\n",
       "      <td>order_number</td>\n",
       "      <td>0.754493</td>\n",
       "    </tr>\n",
       "    <tr>\n",
       "      <th>14</th>\n",
       "      <td>avg_prod_position</td>\n",
       "      <td>0.180286</td>\n",
       "    </tr>\n",
       "    <tr>\n",
       "      <th>4</th>\n",
       "      <td>add_to_cart_order</td>\n",
       "      <td>0.034027</td>\n",
       "    </tr>\n",
       "    <tr>\n",
       "      <th>13</th>\n",
       "      <td>basket_size</td>\n",
       "      <td>0.014056</td>\n",
       "    </tr>\n",
       "    <tr>\n",
       "      <th>2</th>\n",
       "      <td>department_id</td>\n",
       "      <td>0.011968</td>\n",
       "    </tr>\n",
       "  </tbody>\n",
       "</table>\n",
       "</div>"
      ],
      "text/plain": [
       "              Feature  Importance\n",
       "6        order_number    0.754493\n",
       "14  avg_prod_position    0.180286\n",
       "4   add_to_cart_order    0.034027\n",
       "13        basket_size    0.014056\n",
       "2       department_id    0.011968"
      ]
     },
     "execution_count": 23,
     "metadata": {},
     "output_type": "execute_result"
    }
   ],
   "source": [
    "feature_importances = tree_model.feature_importances_\n",
    "feature_names = X_train.columns.tolist()\n",
    "\n",
    "# Create a DataFrame to associate feature names with their importances\n",
    "feature_importance_df = pd.DataFrame({'Feature': feature_names, 'Importance': feature_importances})\n",
    "\n",
    "# Sort features by importance in descending order\n",
    "sorted_features = feature_importance_df.sort_values(by='Importance', ascending=False)\n",
    "\n",
    "# Get the top 7 features\n",
    "top_features = sorted_features.head(5)\n",
    "\n",
    "print(\"Top 10 Features:\")\n",
    "top_features"
   ]
  },
  {
   "cell_type": "markdown",
   "metadata": {},
   "source": [
    "## XGBoost Classifier"
   ]
  },
  {
   "cell_type": "code",
   "execution_count": 38,
   "metadata": {
    "scrolled": true
   },
   "outputs": [
    {
     "name": "stdout",
     "output_type": "stream",
     "text": [
      "[15:58:22] WARNING: C:\\Users\\Administrator\\workspace\\xgboost-win64_release_1.2.0\\src\\gbm\\gbtree.cc:139: Tree method is automatically selected to be 'approx' for faster speed. To use old behavior (exact greedy algorithm on single machine), set tree_method to 'exact'.\n",
      "Train F1-Score: 0.8403275618786884\n",
      "Test F1-Score: 0.8391936229302174\n",
      "Classification Report:\n",
      "               precision    recall  f1-score   support\n",
      "\n",
      "           0       0.67      0.44      0.53    539599\n",
      "           1       0.78      0.90      0.84   1217634\n",
      "\n",
      "    accuracy                           0.76   1757233\n",
      "   macro avg       0.73      0.67      0.68   1757233\n",
      "weighted avg       0.75      0.76      0.74   1757233\n",
      "\n"
     ]
    }
   ],
   "source": [
    "# Create a XGB model\n",
    "final_model = xgb.XGBClassifier(max_depth=7, random_state=42)\n",
    "\n",
    "# Train the model\n",
    "final_model.fit(X_train, y_train)\n",
    "\n",
    "# Evaluate the model on the test set\n",
    "y_pred = final_model.predict(X_test)\n",
    "train_pred = final_model.predict(X_train)\n",
    "\n",
    "print(\"Train F1-Score:\", f1_score(y_train, train_pred))\n",
    "print(\"Test F1-Score:\", f1_score(y_test, y_pred))\n",
    "\n",
    "# Display classification report\n",
    "print(\"Classification Report:\\n\", classification_report(y_test, y_pred))"
   ]
  },
  {
   "cell_type": "code",
   "execution_count": 39,
   "metadata": {},
   "outputs": [
    {
     "data": {
      "image/png": "[encoded data removed]",
      "text/plain": [
       "<Figure size 576x432 with 1 Axes>"
      ]
     },
     "metadata": {
      "needs_background": "light"
     },
     "output_type": "display_data"
    },
    {
     "name": "stdout",
     "output_type": "stream",
     "text": [
      "AUC-PR: 0.8869928617034892\n"
     ]
    }
   ],
   "source": [
    "from sklearn.metrics import precision_recall_curve, auc\n",
    "\n",
    "# Make predictions\n",
    "y_pred_proba = final_model.predict_proba(X_test)[:, 1]\n",
    "\n",
    "# Calculate precision-recall curve values\n",
    "precision, recall, _ = precision_recall_curve(y_test, y_pred_proba)\n",
    "\n",
    "# Calculate AUC-PR\n",
    "auc_pr = auc(recall, precision)\n",
    "\n",
    "# Plot the precision-recall curve\n",
    "plt.figure(figsize=(8, 6))\n",
    "plt.plot(recall, precision, color='b', label='Precision-Recall curve (AUC = %0.2f)' % auc_pr)\n",
    "plt.xlabel('Recall')\n",
    "plt.ylabel('Precision')\n",
    "plt.title('Precision-Recall Curve')\n",
    "plt.legend(loc='lower left')\n",
    "plt.grid(True)\n",
    "plt.show()\n",
    "\n",
    "print(\"AUC-PR:\", auc_pr)"
   ]
  },
  {
   "cell_type": "markdown",
   "metadata": {},
   "source": [
    "The Dataset was highly imbalanced so to validate performance of the model to see how it was handling this. Looking at the Precision-Recall Curve, the AUC-PR score of 89% indicates that our XGB model is effective at identifying reorders by customers. It strikes a balance between correctly identifying reorders and avoiding misclassification."
   ]
  },
  {
   "cell_type": "markdown",
   "metadata": {},
   "source": [
    "### Feature Importance"
   ]
  },
  {
   "cell_type": "code",
   "execution_count": null,
   "metadata": {},
   "outputs": [],
   "source": [
    "xgb.plot_importance(final_model)\n",
    "plt.show()"
   ]
  },
  {
   "cell_type": "code",
   "execution_count": 40,
   "metadata": {},
   "outputs": [
    {
     "data": {
      "text/html": [
       "<div>\n",
       "<style scoped>\n",
       "    .dataframe tbody tr th:only-of-type {\n",
       "        vertical-align: middle;\n",
       "    }\n",
       "\n",
       "    .dataframe tbody tr th {\n",
       "        vertical-align: top;\n",
       "    }\n",
       "\n",
       "    .dataframe thead th {\n",
       "        text-align: right;\n",
       "    }\n",
       "</style>\n",
       "<table border=\"1\" class=\"dataframe\">\n",
       "  <thead>\n",
       "    <tr style=\"text-align: right;\">\n",
       "      <th></th>\n",
       "      <th>Feature</th>\n",
       "      <th>Importance</th>\n",
       "    </tr>\n",
       "  </thead>\n",
       "  <tbody>\n",
       "    <tr>\n",
       "      <th>6</th>\n",
       "      <td>order_number</td>\n",
       "      <td>0.430876</td>\n",
       "    </tr>\n",
       "    <tr>\n",
       "      <th>13</th>\n",
       "      <td>avg_prod_position</td>\n",
       "      <td>0.190187</td>\n",
       "    </tr>\n",
       "    <tr>\n",
       "      <th>4</th>\n",
       "      <td>add_to_cart_order</td>\n",
       "      <td>0.087392</td>\n",
       "    </tr>\n",
       "    <tr>\n",
       "      <th>2</th>\n",
       "      <td>department_id</td>\n",
       "      <td>0.063957</td>\n",
       "    </tr>\n",
       "    <tr>\n",
       "      <th>12</th>\n",
       "      <td>basket_size</td>\n",
       "      <td>0.050880</td>\n",
       "    </tr>\n",
       "    <tr>\n",
       "      <th>10</th>\n",
       "      <td>organic_produce</td>\n",
       "      <td>0.035253</td>\n",
       "    </tr>\n",
       "    <tr>\n",
       "      <th>14</th>\n",
       "      <td>avg_days_since_last_order_product</td>\n",
       "      <td>0.032885</td>\n",
       "    </tr>\n",
       "    <tr>\n",
       "      <th>1</th>\n",
       "      <td>aisle_id</td>\n",
       "      <td>0.032573</td>\n",
       "    </tr>\n",
       "    <tr>\n",
       "      <th>9</th>\n",
       "      <td>days_since_prior_order</td>\n",
       "      <td>0.030816</td>\n",
       "    </tr>\n",
       "    <tr>\n",
       "      <th>0</th>\n",
       "      <td>product_id</td>\n",
       "      <td>0.017432</td>\n",
       "    </tr>\n",
       "    <tr>\n",
       "      <th>11</th>\n",
       "      <td>avg_days_btn_orders</td>\n",
       "      <td>0.010152</td>\n",
       "    </tr>\n",
       "    <tr>\n",
       "      <th>8</th>\n",
       "      <td>order_hour_of_day</td>\n",
       "      <td>0.006770</td>\n",
       "    </tr>\n",
       "    <tr>\n",
       "      <th>7</th>\n",
       "      <td>order_dow</td>\n",
       "      <td>0.004402</td>\n",
       "    </tr>\n",
       "    <tr>\n",
       "      <th>5</th>\n",
       "      <td>user_id</td>\n",
       "      <td>0.003405</td>\n",
       "    </tr>\n",
       "    <tr>\n",
       "      <th>3</th>\n",
       "      <td>order_id</td>\n",
       "      <td>0.003022</td>\n",
       "    </tr>\n",
       "  </tbody>\n",
       "</table>\n",
       "</div>"
      ],
      "text/plain": [
       "                              Feature  Importance\n",
       "6                        order_number    0.430876\n",
       "13                  avg_prod_position    0.190187\n",
       "4                   add_to_cart_order    0.087392\n",
       "2                       department_id    0.063957\n",
       "12                        basket_size    0.050880\n",
       "10                    organic_produce    0.035253\n",
       "14  avg_days_since_last_order_product    0.032885\n",
       "1                            aisle_id    0.032573\n",
       "9              days_since_prior_order    0.030816\n",
       "0                          product_id    0.017432\n",
       "11                avg_days_btn_orders    0.010152\n",
       "8                   order_hour_of_day    0.006770\n",
       "7                           order_dow    0.004402\n",
       "5                             user_id    0.003405\n",
       "3                            order_id    0.003022"
      ]
     },
     "execution_count": 40,
     "metadata": {},
     "output_type": "execute_result"
    }
   ],
   "source": [
    "# Get feature importances\n",
    "importances = final_model.feature_importances_\n",
    "\n",
    "# Get feature names\n",
    "feature_names = X_train.columns.tolist()   # Replace with your actual feature names\n",
    "\n",
    "# Create a DataFrame to display feature importances\n",
    "importance_df = pd.DataFrame({'Feature': feature_names, 'Importance': importances})\n",
    "\n",
    "# Sort the DataFrame by importance\n",
    "importance_df = importance_df.sort_values(by='Importance', ascending=False)\n",
    "\n",
    "importance_df"
   ]
  },
  {
   "cell_type": "markdown",
   "metadata": {},
   "source": [
    "Now I will take those top 7 features and run them through a logistic regression to get coefficents and odds ratios"
   ]
  },
  {
   "cell_type": "code",
   "execution_count": 41,
   "metadata": {
    "scrolled": true
   },
   "outputs": [
    {
     "name": "stdout",
     "output_type": "stream",
     "text": [
      "Train F1-Score: 0.8226141494304057\n",
      "Test F1-Score: 0.8226179541943952\n",
      "Classification Report:\n",
      "               precision    recall  f1-score   support\n",
      "\n",
      "           0       0.61      0.27      0.37    539599\n",
      "           1       0.74      0.93      0.82   1217634\n",
      "\n",
      "    accuracy                           0.72   1757233\n",
      "   macro avg       0.68      0.60      0.60   1757233\n",
      "weighted avg       0.70      0.72      0.68   1757233\n",
      "\n"
     ]
    }
   ],
   "source": [
    "# Select the top features from my xgb model\n",
    "features = [\n",
    "    'order_number',\n",
    "    'avg_prod_position',\n",
    "    'add_to_cart_order',\n",
    "    'department_id',\n",
    "    'basket_size',\n",
    "    'organic_produce',\n",
    "    'avg_days_since_last_order_product'\n",
    "]\n",
    "\n",
    "# Create a new DataFrame with only the selected features\n",
    "X_train_xgb = X_train[features]\n",
    "X_test_xgb = X_test[features]\n",
    "\n",
    "# Instantiate the LogisticRegression model\n",
    "logreg_model = LogisticRegression(penalty='none',random_state=42)\n",
    "\n",
    "# Fit the model on the selected features\n",
    "logreg_model.fit(X_train_xgb, y_train)\n",
    "\n",
    "# Make predictions on train and test sets\n",
    "logreg_lgb_train_pred = logreg_model.predict(X_train_xgb)\n",
    "logreg_lgb_test_pred = logreg_model.predict(X_test_xgb)\n",
    "\n",
    "print(\"Train F1-Score:\", f1_score(y_train, logreg_xgb_train_pred))\n",
    "print(\"Test F1-Score:\", f1_score(y_test, logreg_xgb_test_pred))\n",
    "\n",
    "# Display classification report\n",
    "print(\"Classification Report:\\n\", classification_report(y_test, logreg_xgb_test_pred))"
   ]
  },
  {
   "cell_type": "code",
   "execution_count": 42,
   "metadata": {},
   "outputs": [
    {
     "data": {
      "text/html": [
       "<div>\n",
       "<style scoped>\n",
       "    .dataframe tbody tr th:only-of-type {\n",
       "        vertical-align: middle;\n",
       "    }\n",
       "\n",
       "    .dataframe tbody tr th {\n",
       "        vertical-align: top;\n",
       "    }\n",
       "\n",
       "    .dataframe thead th {\n",
       "        text-align: right;\n",
       "    }\n",
       "</style>\n",
       "<table border=\"1\" class=\"dataframe\">\n",
       "  <thead>\n",
       "    <tr style=\"text-align: right;\">\n",
       "      <th></th>\n",
       "      <th>Feature</th>\n",
       "      <th>Coefficient</th>\n",
       "      <th>Odds Ratio</th>\n",
       "    </tr>\n",
       "  </thead>\n",
       "  <tbody>\n",
       "    <tr>\n",
       "      <th>5</th>\n",
       "      <td>organic_produce</td>\n",
       "      <td>0.287910</td>\n",
       "      <td>1.333637</td>\n",
       "    </tr>\n",
       "    <tr>\n",
       "      <th>6</th>\n",
       "      <td>avg_days_since_last_order_product</td>\n",
       "      <td>0.127655</td>\n",
       "      <td>1.136161</td>\n",
       "    </tr>\n",
       "    <tr>\n",
       "      <th>4</th>\n",
       "      <td>basket_size</td>\n",
       "      <td>0.071271</td>\n",
       "      <td>1.073872</td>\n",
       "    </tr>\n",
       "    <tr>\n",
       "      <th>0</th>\n",
       "      <td>order_number</td>\n",
       "      <td>0.039227</td>\n",
       "      <td>1.040006</td>\n",
       "    </tr>\n",
       "    <tr>\n",
       "      <th>3</th>\n",
       "      <td>department_id</td>\n",
       "      <td>0.009567</td>\n",
       "      <td>1.009613</td>\n",
       "    </tr>\n",
       "    <tr>\n",
       "      <th>2</th>\n",
       "      <td>add_to_cart_order</td>\n",
       "      <td>-0.057033</td>\n",
       "      <td>0.944563</td>\n",
       "    </tr>\n",
       "    <tr>\n",
       "      <th>1</th>\n",
       "      <td>avg_prod_position</td>\n",
       "      <td>-0.332809</td>\n",
       "      <td>0.716907</td>\n",
       "    </tr>\n",
       "  </tbody>\n",
       "</table>\n",
       "</div>"
      ],
      "text/plain": [
       "                             Feature  Coefficient  Odds Ratio\n",
       "5                    organic_produce     0.287910    1.333637\n",
       "6  avg_days_since_last_order_product     0.127655    1.136161\n",
       "4                        basket_size     0.071271    1.073872\n",
       "0                       order_number     0.039227    1.040006\n",
       "3                      department_id     0.009567    1.009613\n",
       "2                  add_to_cart_order    -0.057033    0.944563\n",
       "1                  avg_prod_position    -0.332809    0.716907"
      ]
     },
     "execution_count": 42,
     "metadata": {},
     "output_type": "execute_result"
    }
   ],
   "source": [
    "# Geting the coefficients from the logistic Regression model\n",
    "coefficients = logreg_model.coef_[0]\n",
    "\n",
    "# Exponentiate the coefficients to interpret them as odds ratios\n",
    "odds_ratios = np.exp(coefficients)\n",
    "\n",
    "# Create a DataFrame to associate feature names with their coefficients and odds ratios\n",
    "coefficients_df = pd.DataFrame({'Feature': features, 'Coefficient': coefficients, 'Odds Ratio': odds_ratios})\n",
    "\n",
    "# Print the coefficients and odds ratios\n",
    "coefficients_df.sort_values(by=['Coefficient', 'Odds Ratio'],ascending=False)"
   ]
  }
 ],
 "metadata": {
  "kernelspec": {
   "display_name": "Python 3",
   "language": "python",
   "name": "python3"
  },
  "language_info": {
   "codemirror_mode": {
    "name": "ipython",
    "version": 3
   },
   "file_extension": ".py",
   "mimetype": "text/x-python",
   "name": "python",
   "nbconvert_exporter": "python",
   "pygments_lexer": "ipython3",
   "version": "3.8.5"
  }
 },
 "nbformat": 4,
 "nbformat_minor": 4
}
