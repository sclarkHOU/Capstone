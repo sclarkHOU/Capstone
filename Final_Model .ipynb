{
 "cells": [
  {
   "cell_type": "markdown",
   "metadata": {
    "id": "m8ZtO7LJArFn"
   },
   "source": [
    "# Modeling"
   ]
  },
  {
   "attachments": {
    "istockphoto-1166279866-612x612.jpg": {
     "image/jpeg": "[encoded data removed]"
    }
   },
   "cell_type": "markdown",
   "metadata": {
    "id": "_YhcdJFuArFo"
   },
   "source": [
    "![istockphoto-1166279866-612x612.jpg](attachment:istockphoto-1166279866-612x612.jpg)"
   ]
  },
  {
   "cell_type": "markdown",
   "metadata": {
    "id": "XCiTbhk-ArFo"
   },
   "source": [
    "## Overview"
   ]
  },
  {
   "cell_type": "markdown",
   "metadata": {
    "id": "2_kFeb1pArFp"
   },
   "source": [
    "The Instacart dataset contains historical order information, including product details, user behavior, and order characteristics. My goal is to use a predictive model to analyze which features influence a customer's likelihood to reorder organic products. By examining the model's coefficients, I can gain insights into which features have the most significant impact on the prediction."
   ]
  },
  {
   "cell_type": "markdown",
   "metadata": {},
   "source": [
    "***\n",
    "## Results\n",
    "\n",
    "I started with a decision tree to understand the relationship between features but due to my imbalanced data I transitioned to XGBoost for improved predictive power. Lastly I utilized logistic regression to interpret and quantify the impact of features.\n",
    "\n",
    "Because of the imbalance in my data I not only wanted to identify positive instances but wanted to minimize instances where my model predicted a customer will reorder organic products but they do not. Leading to incorrect allocation of resources towards customers who are not likely to reorder organic products. I also wanted to minimize instances where my model suggested a customer does not reorder organic products but they do. Leading to missed opportunities to promote organic products to customers who are actually interested in them.\n",
    "\n",
    "In a pursuit to find a balance between these two instances I used an F1-Score as my metric.\n",
    "\n",
    "My XGBoost Model had an F1-Score of 84% which struck a balance between precision and recall."
   ]
  },
  {
   "cell_type": "markdown",
   "metadata": {
    "id": "I5cla3iVArFq"
   },
   "source": [
    "***\n",
    "## Data Preperation"
   ]
  },
  {
   "cell_type": "code",
   "execution_count": 1,
   "metadata": {
    "id": "Y7Iz0vYgArFq"
   },
   "outputs": [],
   "source": [
    "#imports\n",
    "import pandas as pd\n",
    "import numpy as np\n",
    "import scipy\n",
    "import os\n",
    "import seaborn as sns\n",
    "from matplotlib import pyplot as plt\n",
    "\n",
    "from sklearn.linear_model import LogisticRegression\n",
    "from sklearn.tree import DecisionTreeClassifier\n",
    "from sklearn.model_selection import train_test_split\n",
    "from sklearn.metrics import f1_score, confusion_matrix, classification_report, roc_curve, precision_recall_curve\n",
    "import xgboost as xgb\n",
    "\n",
    "\n",
    "import warnings\n",
    "warnings.filterwarnings('ignore')"
   ]
  },
  {
   "cell_type": "code",
   "execution_count": 2,
   "metadata": {
    "id": "P09qqKrEArFr"
   },
   "outputs": [],
   "source": [
    "#read in files\n",
    "orders = pd.read_csv('data/orders.csv')\n",
    "products = pd.read_csv('data/products.csv')\n",
    "order_products_prior = pd.read_csv('data/order_products__prior.csv')"
   ]
  },
  {
   "cell_type": "code",
   "execution_count": 3,
   "metadata": {
    "colab": {
     "base_uri": "https://localhost:8080/",
     "height": 1000
    },
    "id": "Lf95Mmm5ArFr",
    "outputId": "f5985305-d9db-41ed-f6cb-2884f8ccf7a0",
    "scrolled": false
   },
   "outputs": [
    {
     "name": "stdout",
     "output_type": "stream",
     "text": [
      "DataFrame: orders\n",
      "Number of rows: 3421083\n"
     ]
    },
    {
     "data": {
      "text/html": [
       "<div>\n",
       "<style scoped>\n",
       "    .dataframe tbody tr th:only-of-type {\n",
       "        vertical-align: middle;\n",
       "    }\n",
       "\n",
       "    .dataframe tbody tr th {\n",
       "        vertical-align: top;\n",
       "    }\n",
       "\n",
       "    .dataframe thead th {\n",
       "        text-align: right;\n",
       "    }\n",
       "</style>\n",
       "<table border=\"1\" class=\"dataframe\">\n",
       "  <thead>\n",
       "    <tr style=\"text-align: right;\">\n",
       "      <th></th>\n",
       "      <th>order_id</th>\n",
       "      <th>user_id</th>\n",
       "      <th>eval_set</th>\n",
       "      <th>order_number</th>\n",
       "      <th>order_dow</th>\n",
       "      <th>order_hour_of_day</th>\n",
       "      <th>days_since_prior_order</th>\n",
       "    </tr>\n",
       "  </thead>\n",
       "  <tbody>\n",
       "    <tr>\n",
       "      <th>0</th>\n",
       "      <td>2539329</td>\n",
       "      <td>1</td>\n",
       "      <td>prior</td>\n",
       "      <td>1</td>\n",
       "      <td>2</td>\n",
       "      <td>8</td>\n",
       "      <td>NaN</td>\n",
       "    </tr>\n",
       "    <tr>\n",
       "      <th>1</th>\n",
       "      <td>2398795</td>\n",
       "      <td>1</td>\n",
       "      <td>prior</td>\n",
       "      <td>2</td>\n",
       "      <td>3</td>\n",
       "      <td>7</td>\n",
       "      <td>15.0</td>\n",
       "    </tr>\n",
       "    <tr>\n",
       "      <th>2</th>\n",
       "      <td>473747</td>\n",
       "      <td>1</td>\n",
       "      <td>prior</td>\n",
       "      <td>3</td>\n",
       "      <td>3</td>\n",
       "      <td>12</td>\n",
       "      <td>21.0</td>\n",
       "    </tr>\n",
       "    <tr>\n",
       "      <th>3</th>\n",
       "      <td>2254736</td>\n",
       "      <td>1</td>\n",
       "      <td>prior</td>\n",
       "      <td>4</td>\n",
       "      <td>4</td>\n",
       "      <td>7</td>\n",
       "      <td>29.0</td>\n",
       "    </tr>\n",
       "    <tr>\n",
       "      <th>4</th>\n",
       "      <td>431534</td>\n",
       "      <td>1</td>\n",
       "      <td>prior</td>\n",
       "      <td>5</td>\n",
       "      <td>4</td>\n",
       "      <td>15</td>\n",
       "      <td>28.0</td>\n",
       "    </tr>\n",
       "  </tbody>\n",
       "</table>\n",
       "</div>"
      ],
      "text/plain": [
       "   order_id  user_id eval_set  order_number  order_dow  order_hour_of_day  \\\n",
       "0   2539329        1    prior             1          2                  8   \n",
       "1   2398795        1    prior             2          3                  7   \n",
       "2    473747        1    prior             3          3                 12   \n",
       "3   2254736        1    prior             4          4                  7   \n",
       "4    431534        1    prior             5          4                 15   \n",
       "\n",
       "   days_since_prior_order  \n",
       "0                     NaN  \n",
       "1                    15.0  \n",
       "2                    21.0  \n",
       "3                    29.0  \n",
       "4                    28.0  "
      ]
     },
     "metadata": {},
     "output_type": "display_data"
    },
    {
     "name": "stdout",
     "output_type": "stream",
     "text": [
      "Info:\n",
      "<class 'pandas.core.frame.DataFrame'>\n",
      "RangeIndex: 3421083 entries, 0 to 3421082\n",
      "Data columns (total 7 columns):\n",
      " #   Column                  Dtype  \n",
      "---  ------                  -----  \n",
      " 0   order_id                int64  \n",
      " 1   user_id                 int64  \n",
      " 2   eval_set                object \n",
      " 3   order_number            int64  \n",
      " 4   order_dow               int64  \n",
      " 5   order_hour_of_day       int64  \n",
      " 6   days_since_prior_order  float64\n",
      "dtypes: float64(1), int64(5), object(1)\n",
      "memory usage: 182.7+ MB\n"
     ]
    },
    {
     "data": {
      "text/plain": [
       "None"
      ]
     },
     "metadata": {},
     "output_type": "display_data"
    },
    {
     "name": "stdout",
     "output_type": "stream",
     "text": [
      "Describe:\n"
     ]
    },
    {
     "data": {
      "text/html": [
       "<div>\n",
       "<style scoped>\n",
       "    .dataframe tbody tr th:only-of-type {\n",
       "        vertical-align: middle;\n",
       "    }\n",
       "\n",
       "    .dataframe tbody tr th {\n",
       "        vertical-align: top;\n",
       "    }\n",
       "\n",
       "    .dataframe thead th {\n",
       "        text-align: right;\n",
       "    }\n",
       "</style>\n",
       "<table border=\"1\" class=\"dataframe\">\n",
       "  <thead>\n",
       "    <tr style=\"text-align: right;\">\n",
       "      <th></th>\n",
       "      <th>order_id</th>\n",
       "      <th>user_id</th>\n",
       "      <th>order_number</th>\n",
       "      <th>order_dow</th>\n",
       "      <th>order_hour_of_day</th>\n",
       "      <th>days_since_prior_order</th>\n",
       "    </tr>\n",
       "  </thead>\n",
       "  <tbody>\n",
       "    <tr>\n",
       "      <th>count</th>\n",
       "      <td>3.421083e+06</td>\n",
       "      <td>3.421083e+06</td>\n",
       "      <td>3.421083e+06</td>\n",
       "      <td>3.421083e+06</td>\n",
       "      <td>3.421083e+06</td>\n",
       "      <td>3.214874e+06</td>\n",
       "    </tr>\n",
       "    <tr>\n",
       "      <th>mean</th>\n",
       "      <td>1.710542e+06</td>\n",
       "      <td>1.029782e+05</td>\n",
       "      <td>1.715486e+01</td>\n",
       "      <td>2.776219e+00</td>\n",
       "      <td>1.345202e+01</td>\n",
       "      <td>1.111484e+01</td>\n",
       "    </tr>\n",
       "    <tr>\n",
       "      <th>std</th>\n",
       "      <td>9.875817e+05</td>\n",
       "      <td>5.953372e+04</td>\n",
       "      <td>1.773316e+01</td>\n",
       "      <td>2.046829e+00</td>\n",
       "      <td>4.226088e+00</td>\n",
       "      <td>9.206737e+00</td>\n",
       "    </tr>\n",
       "    <tr>\n",
       "      <th>min</th>\n",
       "      <td>1.000000e+00</td>\n",
       "      <td>1.000000e+00</td>\n",
       "      <td>1.000000e+00</td>\n",
       "      <td>0.000000e+00</td>\n",
       "      <td>0.000000e+00</td>\n",
       "      <td>0.000000e+00</td>\n",
       "    </tr>\n",
       "    <tr>\n",
       "      <th>25%</th>\n",
       "      <td>8.552715e+05</td>\n",
       "      <td>5.139400e+04</td>\n",
       "      <td>5.000000e+00</td>\n",
       "      <td>1.000000e+00</td>\n",
       "      <td>1.000000e+01</td>\n",
       "      <td>4.000000e+00</td>\n",
       "    </tr>\n",
       "    <tr>\n",
       "      <th>50%</th>\n",
       "      <td>1.710542e+06</td>\n",
       "      <td>1.026890e+05</td>\n",
       "      <td>1.100000e+01</td>\n",
       "      <td>3.000000e+00</td>\n",
       "      <td>1.300000e+01</td>\n",
       "      <td>7.000000e+00</td>\n",
       "    </tr>\n",
       "    <tr>\n",
       "      <th>75%</th>\n",
       "      <td>2.565812e+06</td>\n",
       "      <td>1.543850e+05</td>\n",
       "      <td>2.300000e+01</td>\n",
       "      <td>5.000000e+00</td>\n",
       "      <td>1.600000e+01</td>\n",
       "      <td>1.500000e+01</td>\n",
       "    </tr>\n",
       "    <tr>\n",
       "      <th>max</th>\n",
       "      <td>3.421083e+06</td>\n",
       "      <td>2.062090e+05</td>\n",
       "      <td>1.000000e+02</td>\n",
       "      <td>6.000000e+00</td>\n",
       "      <td>2.300000e+01</td>\n",
       "      <td>3.000000e+01</td>\n",
       "    </tr>\n",
       "  </tbody>\n",
       "</table>\n",
       "</div>"
      ],
      "text/plain": [
       "           order_id       user_id  order_number     order_dow  \\\n",
       "count  3.421083e+06  3.421083e+06  3.421083e+06  3.421083e+06   \n",
       "mean   1.710542e+06  1.029782e+05  1.715486e+01  2.776219e+00   \n",
       "std    9.875817e+05  5.953372e+04  1.773316e+01  2.046829e+00   \n",
       "min    1.000000e+00  1.000000e+00  1.000000e+00  0.000000e+00   \n",
       "25%    8.552715e+05  5.139400e+04  5.000000e+00  1.000000e+00   \n",
       "50%    1.710542e+06  1.026890e+05  1.100000e+01  3.000000e+00   \n",
       "75%    2.565812e+06  1.543850e+05  2.300000e+01  5.000000e+00   \n",
       "max    3.421083e+06  2.062090e+05  1.000000e+02  6.000000e+00   \n",
       "\n",
       "       order_hour_of_day  days_since_prior_order  \n",
       "count       3.421083e+06            3.214874e+06  \n",
       "mean        1.345202e+01            1.111484e+01  \n",
       "std         4.226088e+00            9.206737e+00  \n",
       "min         0.000000e+00            0.000000e+00  \n",
       "25%         1.000000e+01            4.000000e+00  \n",
       "50%         1.300000e+01            7.000000e+00  \n",
       "75%         1.600000e+01            1.500000e+01  \n",
       "max         2.300000e+01            3.000000e+01  "
      ]
     },
     "metadata": {},
     "output_type": "display_data"
    },
    {
     "name": "stdout",
     "output_type": "stream",
     "text": [
      "========================================\n",
      "DataFrame: order_products_prior\n",
      "Number of rows: 32434489\n"
     ]
    },
    {
     "data": {
      "text/html": [
       "<div>\n",
       "<style scoped>\n",
       "    .dataframe tbody tr th:only-of-type {\n",
       "        vertical-align: middle;\n",
       "    }\n",
       "\n",
       "    .dataframe tbody tr th {\n",
       "        vertical-align: top;\n",
       "    }\n",
       "\n",
       "    .dataframe thead th {\n",
       "        text-align: right;\n",
       "    }\n",
       "</style>\n",
       "<table border=\"1\" class=\"dataframe\">\n",
       "  <thead>\n",
       "    <tr style=\"text-align: right;\">\n",
       "      <th></th>\n",
       "      <th>order_id</th>\n",
       "      <th>product_id</th>\n",
       "      <th>add_to_cart_order</th>\n",
       "      <th>reordered</th>\n",
       "    </tr>\n",
       "  </thead>\n",
       "  <tbody>\n",
       "    <tr>\n",
       "      <th>0</th>\n",
       "      <td>2</td>\n",
       "      <td>33120</td>\n",
       "      <td>1</td>\n",
       "      <td>1</td>\n",
       "    </tr>\n",
       "    <tr>\n",
       "      <th>1</th>\n",
       "      <td>2</td>\n",
       "      <td>28985</td>\n",
       "      <td>2</td>\n",
       "      <td>1</td>\n",
       "    </tr>\n",
       "    <tr>\n",
       "      <th>2</th>\n",
       "      <td>2</td>\n",
       "      <td>9327</td>\n",
       "      <td>3</td>\n",
       "      <td>0</td>\n",
       "    </tr>\n",
       "    <tr>\n",
       "      <th>3</th>\n",
       "      <td>2</td>\n",
       "      <td>45918</td>\n",
       "      <td>4</td>\n",
       "      <td>1</td>\n",
       "    </tr>\n",
       "    <tr>\n",
       "      <th>4</th>\n",
       "      <td>2</td>\n",
       "      <td>30035</td>\n",
       "      <td>5</td>\n",
       "      <td>0</td>\n",
       "    </tr>\n",
       "  </tbody>\n",
       "</table>\n",
       "</div>"
      ],
      "text/plain": [
       "   order_id  product_id  add_to_cart_order  reordered\n",
       "0         2       33120                  1          1\n",
       "1         2       28985                  2          1\n",
       "2         2        9327                  3          0\n",
       "3         2       45918                  4          1\n",
       "4         2       30035                  5          0"
      ]
     },
     "metadata": {},
     "output_type": "display_data"
    },
    {
     "name": "stdout",
     "output_type": "stream",
     "text": [
      "Info:\n",
      "<class 'pandas.core.frame.DataFrame'>\n",
      "RangeIndex: 32434489 entries, 0 to 32434488\n",
      "Data columns (total 4 columns):\n",
      " #   Column             Dtype\n",
      "---  ------             -----\n",
      " 0   order_id           int64\n",
      " 1   product_id         int64\n",
      " 2   add_to_cart_order  int64\n",
      " 3   reordered          int64\n",
      "dtypes: int64(4)\n",
      "memory usage: 989.8 MB\n"
     ]
    },
    {
     "data": {
      "text/plain": [
       "None"
      ]
     },
     "metadata": {},
     "output_type": "display_data"
    },
    {
     "name": "stdout",
     "output_type": "stream",
     "text": [
      "Describe:\n"
     ]
    },
    {
     "data": {
      "text/html": [
       "<div>\n",
       "<style scoped>\n",
       "    .dataframe tbody tr th:only-of-type {\n",
       "        vertical-align: middle;\n",
       "    }\n",
       "\n",
       "    .dataframe tbody tr th {\n",
       "        vertical-align: top;\n",
       "    }\n",
       "\n",
       "    .dataframe thead th {\n",
       "        text-align: right;\n",
       "    }\n",
       "</style>\n",
       "<table border=\"1\" class=\"dataframe\">\n",
       "  <thead>\n",
       "    <tr style=\"text-align: right;\">\n",
       "      <th></th>\n",
       "      <th>order_id</th>\n",
       "      <th>product_id</th>\n",
       "      <th>add_to_cart_order</th>\n",
       "      <th>reordered</th>\n",
       "    </tr>\n",
       "  </thead>\n",
       "  <tbody>\n",
       "    <tr>\n",
       "      <th>count</th>\n",
       "      <td>3.243449e+07</td>\n",
       "      <td>3.243449e+07</td>\n",
       "      <td>3.243449e+07</td>\n",
       "      <td>3.243449e+07</td>\n",
       "    </tr>\n",
       "    <tr>\n",
       "      <th>mean</th>\n",
       "      <td>1.710749e+06</td>\n",
       "      <td>2.557634e+04</td>\n",
       "      <td>8.351076e+00</td>\n",
       "      <td>5.896975e-01</td>\n",
       "    </tr>\n",
       "    <tr>\n",
       "      <th>std</th>\n",
       "      <td>9.873007e+05</td>\n",
       "      <td>1.409669e+04</td>\n",
       "      <td>7.126671e+00</td>\n",
       "      <td>4.918886e-01</td>\n",
       "    </tr>\n",
       "    <tr>\n",
       "      <th>min</th>\n",
       "      <td>2.000000e+00</td>\n",
       "      <td>1.000000e+00</td>\n",
       "      <td>1.000000e+00</td>\n",
       "      <td>0.000000e+00</td>\n",
       "    </tr>\n",
       "    <tr>\n",
       "      <th>25%</th>\n",
       "      <td>8.559430e+05</td>\n",
       "      <td>1.353000e+04</td>\n",
       "      <td>3.000000e+00</td>\n",
       "      <td>0.000000e+00</td>\n",
       "    </tr>\n",
       "    <tr>\n",
       "      <th>50%</th>\n",
       "      <td>1.711048e+06</td>\n",
       "      <td>2.525600e+04</td>\n",
       "      <td>6.000000e+00</td>\n",
       "      <td>1.000000e+00</td>\n",
       "    </tr>\n",
       "    <tr>\n",
       "      <th>75%</th>\n",
       "      <td>2.565514e+06</td>\n",
       "      <td>3.793500e+04</td>\n",
       "      <td>1.100000e+01</td>\n",
       "      <td>1.000000e+00</td>\n",
       "    </tr>\n",
       "    <tr>\n",
       "      <th>max</th>\n",
       "      <td>3.421083e+06</td>\n",
       "      <td>4.968800e+04</td>\n",
       "      <td>1.450000e+02</td>\n",
       "      <td>1.000000e+00</td>\n",
       "    </tr>\n",
       "  </tbody>\n",
       "</table>\n",
       "</div>"
      ],
      "text/plain": [
       "           order_id    product_id  add_to_cart_order     reordered\n",
       "count  3.243449e+07  3.243449e+07       3.243449e+07  3.243449e+07\n",
       "mean   1.710749e+06  2.557634e+04       8.351076e+00  5.896975e-01\n",
       "std    9.873007e+05  1.409669e+04       7.126671e+00  4.918886e-01\n",
       "min    2.000000e+00  1.000000e+00       1.000000e+00  0.000000e+00\n",
       "25%    8.559430e+05  1.353000e+04       3.000000e+00  0.000000e+00\n",
       "50%    1.711048e+06  2.525600e+04       6.000000e+00  1.000000e+00\n",
       "75%    2.565514e+06  3.793500e+04       1.100000e+01  1.000000e+00\n",
       "max    3.421083e+06  4.968800e+04       1.450000e+02  1.000000e+00"
      ]
     },
     "metadata": {},
     "output_type": "display_data"
    },
    {
     "name": "stdout",
     "output_type": "stream",
     "text": [
      "========================================\n",
      "DataFrame: products\n",
      "Number of rows: 49688\n"
     ]
    },
    {
     "data": {
      "text/html": [
       "<div>\n",
       "<style scoped>\n",
       "    .dataframe tbody tr th:only-of-type {\n",
       "        vertical-align: middle;\n",
       "    }\n",
       "\n",
       "    .dataframe tbody tr th {\n",
       "        vertical-align: top;\n",
       "    }\n",
       "\n",
       "    .dataframe thead th {\n",
       "        text-align: right;\n",
       "    }\n",
       "</style>\n",
       "<table border=\"1\" class=\"dataframe\">\n",
       "  <thead>\n",
       "    <tr style=\"text-align: right;\">\n",
       "      <th></th>\n",
       "      <th>product_id</th>\n",
       "      <th>product_name</th>\n",
       "      <th>aisle_id</th>\n",
       "      <th>department_id</th>\n",
       "    </tr>\n",
       "  </thead>\n",
       "  <tbody>\n",
       "    <tr>\n",
       "      <th>0</th>\n",
       "      <td>1</td>\n",
       "      <td>Chocolate Sandwich Cookies</td>\n",
       "      <td>61</td>\n",
       "      <td>19</td>\n",
       "    </tr>\n",
       "    <tr>\n",
       "      <th>1</th>\n",
       "      <td>2</td>\n",
       "      <td>All-Seasons Salt</td>\n",
       "      <td>104</td>\n",
       "      <td>13</td>\n",
       "    </tr>\n",
       "    <tr>\n",
       "      <th>2</th>\n",
       "      <td>3</td>\n",
       "      <td>Robust Golden Unsweetened Oolong Tea</td>\n",
       "      <td>94</td>\n",
       "      <td>7</td>\n",
       "    </tr>\n",
       "    <tr>\n",
       "      <th>3</th>\n",
       "      <td>4</td>\n",
       "      <td>Smart Ones Classic Favorites Mini Rigatoni Wit...</td>\n",
       "      <td>38</td>\n",
       "      <td>1</td>\n",
       "    </tr>\n",
       "    <tr>\n",
       "      <th>4</th>\n",
       "      <td>5</td>\n",
       "      <td>Green Chile Anytime Sauce</td>\n",
       "      <td>5</td>\n",
       "      <td>13</td>\n",
       "    </tr>\n",
       "  </tbody>\n",
       "</table>\n",
       "</div>"
      ],
      "text/plain": [
       "   product_id                                       product_name  aisle_id  \\\n",
       "0           1                         Chocolate Sandwich Cookies        61   \n",
       "1           2                                   All-Seasons Salt       104   \n",
       "2           3               Robust Golden Unsweetened Oolong Tea        94   \n",
       "3           4  Smart Ones Classic Favorites Mini Rigatoni Wit...        38   \n",
       "4           5                          Green Chile Anytime Sauce         5   \n",
       "\n",
       "   department_id  \n",
       "0             19  \n",
       "1             13  \n",
       "2              7  \n",
       "3              1  \n",
       "4             13  "
      ]
     },
     "metadata": {},
     "output_type": "display_data"
    },
    {
     "name": "stdout",
     "output_type": "stream",
     "text": [
      "Info:\n",
      "<class 'pandas.core.frame.DataFrame'>\n",
      "RangeIndex: 49688 entries, 0 to 49687\n",
      "Data columns (total 4 columns):\n",
      " #   Column         Non-Null Count  Dtype \n",
      "---  ------         --------------  ----- \n",
      " 0   product_id     49688 non-null  int64 \n",
      " 1   product_name   49688 non-null  object\n",
      " 2   aisle_id       49688 non-null  int64 \n",
      " 3   department_id  49688 non-null  int64 \n",
      "dtypes: int64(3), object(1)\n",
      "memory usage: 1.5+ MB\n"
     ]
    },
    {
     "data": {
      "text/plain": [
       "None"
      ]
     },
     "metadata": {},
     "output_type": "display_data"
    },
    {
     "name": "stdout",
     "output_type": "stream",
     "text": [
      "Describe:\n"
     ]
    },
    {
     "data": {
      "text/html": [
       "<div>\n",
       "<style scoped>\n",
       "    .dataframe tbody tr th:only-of-type {\n",
       "        vertical-align: middle;\n",
       "    }\n",
       "\n",
       "    .dataframe tbody tr th {\n",
       "        vertical-align: top;\n",
       "    }\n",
       "\n",
       "    .dataframe thead th {\n",
       "        text-align: right;\n",
       "    }\n",
       "</style>\n",
       "<table border=\"1\" class=\"dataframe\">\n",
       "  <thead>\n",
       "    <tr style=\"text-align: right;\">\n",
       "      <th></th>\n",
       "      <th>product_id</th>\n",
       "      <th>aisle_id</th>\n",
       "      <th>department_id</th>\n",
       "    </tr>\n",
       "  </thead>\n",
       "  <tbody>\n",
       "    <tr>\n",
       "      <th>count</th>\n",
       "      <td>49688.000000</td>\n",
       "      <td>49688.000000</td>\n",
       "      <td>49688.000000</td>\n",
       "    </tr>\n",
       "    <tr>\n",
       "      <th>mean</th>\n",
       "      <td>24844.500000</td>\n",
       "      <td>67.769582</td>\n",
       "      <td>11.728687</td>\n",
       "    </tr>\n",
       "    <tr>\n",
       "      <th>std</th>\n",
       "      <td>14343.834425</td>\n",
       "      <td>38.316162</td>\n",
       "      <td>5.850410</td>\n",
       "    </tr>\n",
       "    <tr>\n",
       "      <th>min</th>\n",
       "      <td>1.000000</td>\n",
       "      <td>1.000000</td>\n",
       "      <td>1.000000</td>\n",
       "    </tr>\n",
       "    <tr>\n",
       "      <th>25%</th>\n",
       "      <td>12422.750000</td>\n",
       "      <td>35.000000</td>\n",
       "      <td>7.000000</td>\n",
       "    </tr>\n",
       "    <tr>\n",
       "      <th>50%</th>\n",
       "      <td>24844.500000</td>\n",
       "      <td>69.000000</td>\n",
       "      <td>13.000000</td>\n",
       "    </tr>\n",
       "    <tr>\n",
       "      <th>75%</th>\n",
       "      <td>37266.250000</td>\n",
       "      <td>100.000000</td>\n",
       "      <td>17.000000</td>\n",
       "    </tr>\n",
       "    <tr>\n",
       "      <th>max</th>\n",
       "      <td>49688.000000</td>\n",
       "      <td>134.000000</td>\n",
       "      <td>21.000000</td>\n",
       "    </tr>\n",
       "  </tbody>\n",
       "</table>\n",
       "</div>"
      ],
      "text/plain": [
       "         product_id      aisle_id  department_id\n",
       "count  49688.000000  49688.000000   49688.000000\n",
       "mean   24844.500000     67.769582      11.728687\n",
       "std    14343.834425     38.316162       5.850410\n",
       "min        1.000000      1.000000       1.000000\n",
       "25%    12422.750000     35.000000       7.000000\n",
       "50%    24844.500000     69.000000      13.000000\n",
       "75%    37266.250000    100.000000      17.000000\n",
       "max    49688.000000    134.000000      21.000000"
      ]
     },
     "metadata": {},
     "output_type": "display_data"
    },
    {
     "name": "stdout",
     "output_type": "stream",
     "text": [
      "========================================\n"
     ]
    }
   ],
   "source": [
    "dataframes = ['orders', 'order_products_prior', 'products']\n",
    "\n",
    "for df_name in dataframes:\n",
    "    df = globals()[df_name]\n",
    "    print(f\"DataFrame: {df_name}\")\n",
    "    print(\"Number of rows:\", len(df))\n",
    "    display(df.head())\n",
    "    print(\"Info:\")\n",
    "    display(df.info())\n",
    "    print(\"Describe:\")\n",
    "    display(df.describe())\n",
    "    print(\"=\" * 40)"
   ]
  },
  {
   "cell_type": "code",
   "execution_count": 4,
   "metadata": {
    "id": "hePI8ak1ArFs"
   },
   "outputs": [],
   "source": [
    "#capping the days since to 29 to avoid outliers\n",
    "orders = orders.loc[orders['days_since_prior_order'] <= 29]"
   ]
  },
  {
   "cell_type": "code",
   "execution_count": 5,
   "metadata": {
    "id": "ibgoC5svArFs"
   },
   "outputs": [],
   "source": [
    "#creating a column of if a product is organic or not\n",
    "products['organic'] = products['product_name'].str.lower().str.contains('organic').astype(int)"
   ]
  },
  {
   "cell_type": "code",
   "execution_count": 6,
   "metadata": {
    "id": "34LEqxDtArFs"
   },
   "outputs": [],
   "source": [
    "#creating an organic produce column\n",
    "products['organic_produce'] = np.where((products['organic'] == 1) & (products['department_id'] == 4), 1, 0)"
   ]
  },
  {
   "cell_type": "code",
   "execution_count": 7,
   "metadata": {
    "id": "z7kzJeT_ArFs"
   },
   "outputs": [],
   "source": [
    "#merging files together\n",
    "df = products.merge(order_products_prior,on='product_id', how='inner')\n",
    "df = pd.merge(df, orders, on='order_id', how='inner')"
   ]
  },
  {
   "cell_type": "code",
   "execution_count": 8,
   "metadata": {
    "id": "fs108YoFArFs",
    "scrolled": true
   },
   "outputs": [],
   "source": [
    "#creating an organic dataframe and dropping unused and categorical columns for modeling\n",
    "organic_mod= df.loc[df['organic'] == 1]\n",
    "organic_mod = organic_mod.drop(['organic','product_name','eval_set'], axis=1)"
   ]
  },
  {
   "cell_type": "markdown",
   "metadata": {
    "id": "faULbmFpArFs"
   },
   "source": [
    "***\n",
    "## Feature Engineering"
   ]
  },
  {
   "cell_type": "markdown",
   "metadata": {
    "id": "OKV1OTj5ArFt"
   },
   "source": [
    "The features used to build our models are:\n",
    "\n",
    "- Order_id\n",
    "- Order_number\n",
    "- Average_days_between_orders\n",
    "- Basket_size\n",
    "- Aisle\n",
    "- Department\n",
    "- Product\n",
    "- User_id\n",
    "- Order_hour_of_day\n",
    "- Order_dow(day of week)\n",
    "- Average Product Position in cart\n",
    "- Average days since a product was ordered"
   ]
  },
  {
   "cell_type": "code",
   "execution_count": 9,
   "metadata": {
    "id": "Hnm-N3NDArFt"
   },
   "outputs": [],
   "source": [
    "#Adding column average days between a users orders using days_since_prior_order\n",
    "organic_mod['avg_days_btn_orders'] = organic_mod.groupby('user_id')['days_since_prior_order'].mean().astype(np.float32)\n",
    "organic_mod['avg_days_btn_orders'] = organic_mod['avg_days_btn_orders'].replace(np.nan, 1)"
   ]
  },
  {
   "cell_type": "code",
   "execution_count": 10,
   "metadata": {
    "id": "P2HOARFKArFt",
    "scrolled": true
   },
   "outputs": [],
   "source": [
    "#adding a column 'basket_size' for the number of products in each order\n",
    "organic_mod['basket_size'] = organic_mod.groupby('order_id')['product_id'].transform('count')"
   ]
  },
  {
   "cell_type": "code",
   "execution_count": 11,
   "metadata": {
    "id": "YIAvUOR9ArFt",
    "scrolled": true
   },
   "outputs": [],
   "source": [
    "#adding a column 'avg_prod_cart_position' for the average placement of a product in a user cart\n",
    "organic_mod['avg_prod_position'] = organic_mod.groupby('product_id')['add_to_cart_order'].transform('mean')"
   ]
  },
  {
   "cell_type": "code",
   "execution_count": 12,
   "metadata": {
    "id": "l1zUswH1ArFt"
   },
   "outputs": [],
   "source": [
    "#adding a column for the average days since a product was ordered\n",
    "organic_mod['avg_days_since_last_order_product'] = organic_mod.groupby('product_id')['days_since_prior_order'].transform('mean')"
   ]
  },
  {
   "cell_type": "markdown",
   "metadata": {
    "id": "FwE5FXm4ArFt"
   },
   "source": [
    "Checking for any missing data before splitting the data"
   ]
  },
  {
   "cell_type": "code",
   "execution_count": 13,
   "metadata": {
    "colab": {
     "base_uri": "https://localhost:8080/",
     "height": 571
    },
    "id": "yjfVPB9zArFt",
    "outputId": "21b17e49-b07a-45b8-95a0-ae1acae16cb2",
    "scrolled": false
   },
   "outputs": [
    {
     "data": {
      "text/html": [
       "<div>\n",
       "<style scoped>\n",
       "    .dataframe tbody tr th:only-of-type {\n",
       "        vertical-align: middle;\n",
       "    }\n",
       "\n",
       "    .dataframe tbody tr th {\n",
       "        vertical-align: top;\n",
       "    }\n",
       "\n",
       "    .dataframe thead th {\n",
       "        text-align: right;\n",
       "    }\n",
       "</style>\n",
       "<table border=\"1\" class=\"dataframe\">\n",
       "  <thead>\n",
       "    <tr style=\"text-align: right;\">\n",
       "      <th></th>\n",
       "      <th>Column</th>\n",
       "      <th>MissingPercentage</th>\n",
       "    </tr>\n",
       "  </thead>\n",
       "  <tbody>\n",
       "    <tr>\n",
       "      <th>product_id</th>\n",
       "      <td>product_id</td>\n",
       "      <td>0.0</td>\n",
       "    </tr>\n",
       "    <tr>\n",
       "      <th>aisle_id</th>\n",
       "      <td>aisle_id</td>\n",
       "      <td>0.0</td>\n",
       "    </tr>\n",
       "    <tr>\n",
       "      <th>department_id</th>\n",
       "      <td>department_id</td>\n",
       "      <td>0.0</td>\n",
       "    </tr>\n",
       "    <tr>\n",
       "      <th>organic_produce</th>\n",
       "      <td>organic_produce</td>\n",
       "      <td>0.0</td>\n",
       "    </tr>\n",
       "    <tr>\n",
       "      <th>order_id</th>\n",
       "      <td>order_id</td>\n",
       "      <td>0.0</td>\n",
       "    </tr>\n",
       "    <tr>\n",
       "      <th>add_to_cart_order</th>\n",
       "      <td>add_to_cart_order</td>\n",
       "      <td>0.0</td>\n",
       "    </tr>\n",
       "    <tr>\n",
       "      <th>reordered</th>\n",
       "      <td>reordered</td>\n",
       "      <td>0.0</td>\n",
       "    </tr>\n",
       "    <tr>\n",
       "      <th>user_id</th>\n",
       "      <td>user_id</td>\n",
       "      <td>0.0</td>\n",
       "    </tr>\n",
       "    <tr>\n",
       "      <th>order_number</th>\n",
       "      <td>order_number</td>\n",
       "      <td>0.0</td>\n",
       "    </tr>\n",
       "    <tr>\n",
       "      <th>order_dow</th>\n",
       "      <td>order_dow</td>\n",
       "      <td>0.0</td>\n",
       "    </tr>\n",
       "    <tr>\n",
       "      <th>order_hour_of_day</th>\n",
       "      <td>order_hour_of_day</td>\n",
       "      <td>0.0</td>\n",
       "    </tr>\n",
       "    <tr>\n",
       "      <th>days_since_prior_order</th>\n",
       "      <td>days_since_prior_order</td>\n",
       "      <td>0.0</td>\n",
       "    </tr>\n",
       "    <tr>\n",
       "      <th>avg_days_btn_orders</th>\n",
       "      <td>avg_days_btn_orders</td>\n",
       "      <td>0.0</td>\n",
       "    </tr>\n",
       "    <tr>\n",
       "      <th>basket_size</th>\n",
       "      <td>basket_size</td>\n",
       "      <td>0.0</td>\n",
       "    </tr>\n",
       "    <tr>\n",
       "      <th>avg_prod_position</th>\n",
       "      <td>avg_prod_position</td>\n",
       "      <td>0.0</td>\n",
       "    </tr>\n",
       "    <tr>\n",
       "      <th>avg_days_since_last_order_product</th>\n",
       "      <td>avg_days_since_last_order_product</td>\n",
       "      <td>0.0</td>\n",
       "    </tr>\n",
       "  </tbody>\n",
       "</table>\n",
       "</div>"
      ],
      "text/plain": [
       "                                                              Column  \\\n",
       "product_id                                                product_id   \n",
       "aisle_id                                                    aisle_id   \n",
       "department_id                                          department_id   \n",
       "organic_produce                                      organic_produce   \n",
       "order_id                                                    order_id   \n",
       "add_to_cart_order                                  add_to_cart_order   \n",
       "reordered                                                  reordered   \n",
       "user_id                                                      user_id   \n",
       "order_number                                            order_number   \n",
       "order_dow                                                  order_dow   \n",
       "order_hour_of_day                                  order_hour_of_day   \n",
       "days_since_prior_order                        days_since_prior_order   \n",
       "avg_days_btn_orders                              avg_days_btn_orders   \n",
       "basket_size                                              basket_size   \n",
       "avg_prod_position                                  avg_prod_position   \n",
       "avg_days_since_last_order_product  avg_days_since_last_order_product   \n",
       "\n",
       "                                   MissingPercentage  \n",
       "product_id                                       0.0  \n",
       "aisle_id                                         0.0  \n",
       "department_id                                    0.0  \n",
       "organic_produce                                  0.0  \n",
       "order_id                                         0.0  \n",
       "add_to_cart_order                                0.0  \n",
       "reordered                                        0.0  \n",
       "user_id                                          0.0  \n",
       "order_number                                     0.0  \n",
       "order_dow                                        0.0  \n",
       "order_hour_of_day                                0.0  \n",
       "days_since_prior_order                           0.0  \n",
       "avg_days_btn_orders                              0.0  \n",
       "basket_size                                      0.0  \n",
       "avg_prod_position                                0.0  \n",
       "avg_days_since_last_order_product                0.0  "
      ]
     },
     "execution_count": 13,
     "metadata": {},
     "output_type": "execute_result"
    }
   ],
   "source": [
    "# Calculate the percentage of missing values in each column\n",
    "missing_percentage = (organic_mod.isnull().sum() / len(organic_mod)) * 100\n",
    "# Create a new DataFrame to store the missing percentage for each column\n",
    "missing_data = pd.DataFrame({'Column': organic_mod.columns, 'MissingPercentage': missing_percentage})\n",
    "# Print the missing percentage for each column\n",
    "missing_data"
   ]
  },
  {
   "cell_type": "markdown",
   "metadata": {
    "id": "3Kk8HTQSArFt"
   },
   "source": [
    "There no missing values and all columns are numeric"
   ]
  },
  {
   "cell_type": "code",
   "execution_count": 14,
   "metadata": {
    "colab": {
     "base_uri": "https://localhost:8080/"
    },
    "id": "VgT2QAlbArFt",
    "outputId": "3fd6ea93-64d2-4d83-9028-33088d22f6a2",
    "scrolled": false
   },
   "outputs": [
    {
     "name": "stdout",
     "output_type": "stream",
     "text": [
      "<class 'pandas.core.frame.DataFrame'>\n",
      "Int64Index: 8786162 entries, 7 to 27286095\n",
      "Data columns (total 16 columns):\n",
      " #   Column                             Dtype  \n",
      "---  ------                             -----  \n",
      " 0   product_id                         int64  \n",
      " 1   aisle_id                           int64  \n",
      " 2   department_id                      int64  \n",
      " 3   organic_produce                    int32  \n",
      " 4   order_id                           int64  \n",
      " 5   add_to_cart_order                  int64  \n",
      " 6   reordered                          int64  \n",
      " 7   user_id                            int64  \n",
      " 8   order_number                       int64  \n",
      " 9   order_dow                          int64  \n",
      " 10  order_hour_of_day                  int64  \n",
      " 11  days_since_prior_order             float64\n",
      " 12  avg_days_btn_orders                float32\n",
      " 13  basket_size                        int64  \n",
      " 14  avg_prod_position                  float64\n",
      " 15  avg_days_since_last_order_product  float64\n",
      "dtypes: float32(1), float64(3), int32(1), int64(11)\n",
      "memory usage: 1.0 GB\n"
     ]
    }
   ],
   "source": [
    "#checking final features\n",
    "organic_mod.info()"
   ]
  },
  {
   "cell_type": "markdown",
   "metadata": {
    "id": "MCbXIrBRArFt"
   },
   "source": [
    "** **\n",
    "# Modeling"
   ]
  },
  {
   "cell_type": "markdown",
   "metadata": {
    "id": "resCIoDSArFt"
   },
   "source": [
    "### Train Test Split"
   ]
  },
  {
   "cell_type": "markdown",
   "metadata": {
    "id": "tb5l7FYlArFt"
   },
   "source": [
    "I am using reordered as my target variable and have 15 features"
   ]
  },
  {
   "cell_type": "code",
   "execution_count": 15,
   "metadata": {
    "colab": {
     "base_uri": "https://localhost:8080/"
    },
    "id": "iv8qBAM6ArFt",
    "outputId": "a4213d84-dd36-4427-86c6-10547143c6a2"
   },
   "outputs": [
    {
     "data": {
      "text/plain": [
       "1    0.692927\n",
       "0    0.307073\n",
       "Name: reordered, dtype: float64"
      ]
     },
     "execution_count": 15,
     "metadata": {},
     "output_type": "execute_result"
    }
   ],
   "source": [
    "#checking class balance\n",
    "organic_mod['reordered'].value_counts(normalize=True)"
   ]
  },
  {
   "cell_type": "code",
   "execution_count": 16,
   "metadata": {
    "id": "Adm4jm95ArFt"
   },
   "outputs": [],
   "source": [
    "# Separate features and target\n",
    "X = organic_mod.drop('reordered', axis=1) #data\n",
    "y = organic_mod['reordered'] #target\n",
    "\n",
    "# Train-test split\n",
    "X_train, X_test, y_train, y_test = train_test_split(X, y, test_size=0.2, stratify=y, random_state=42)"
   ]
  },
  {
   "cell_type": "markdown",
   "metadata": {
    "id": "MZ0ztQfEArFu"
   },
   "source": [
    "For my models I will be using The F1-score metric because it is a weighted average of precision and recall. It is a good measure of overall performance, especially when the classes are imbalanced such as mine"
   ]
  },
  {
   "cell_type": "markdown",
   "metadata": {
    "id": "arE3b9yJArFu"
   },
   "source": [
    "** **\n",
    "## Decision Tree Classifier (Baseline)"
   ]
  },
  {
   "cell_type": "code",
   "execution_count": 17,
   "metadata": {
    "colab": {
     "base_uri": "https://localhost:8080/"
    },
    "id": "zg-06vqOArFu",
    "outputId": "3c959029-d411-4ff8-a699-678d0dda1592",
    "scrolled": false
   },
   "outputs": [
    {
     "name": "stdout",
     "output_type": "stream",
     "text": [
      "Train F1-Score: 1.0\n",
      "Test F1-Score: 0.7579013406818329\n",
      "Classification Report:\n",
      "               precision    recall  f1-score   support\n",
      "\n",
      "           0       0.46      0.48      0.47    539599\n",
      "           1       0.76      0.75      0.76   1217634\n",
      "\n",
      "    accuracy                           0.67   1757233\n",
      "   macro avg       0.61      0.61      0.61   1757233\n",
      "weighted avg       0.67      0.67      0.67   1757233\n",
      "\n",
      "Confusion Matrix:\n",
      "[[256494 283105]\n",
      " [301916 915718]]\n"
     ]
    }
   ],
   "source": [
    "#instantiate a DecisionTreeClassifier\n",
    "tree_model_base = DecisionTreeClassifier(random_state=42)\n",
    "\n",
    "#fit the model on the train data\n",
    "tree_model_base.fit(X_train, y_train)\n",
    "\n",
    "#make predictions\n",
    "y_pred_base = tree_model_base.predict(X_test)\n",
    "train_pred_base = tree_model_base.predict(X_train)\n",
    "\n",
    "base_cm = confusion_matrix(y_test, y_pred_base)\n",
    "\n",
    "#print f1_scores\n",
    "print(\"Train F1-Score:\", f1_score(y_train, train_pred_base))\n",
    "print(\"Test F1-Score:\", f1_score(y_test, y_pred_base))\n",
    "# print classification report\n",
    "print(\"Classification Report:\\n\", classification_report(y_test, y_pred_base))\n",
    "# print confusion matrix\n",
    "print(\"Confusion Matrix:\")\n",
    "print(base_cm)"
   ]
  },
  {
   "cell_type": "code",
   "execution_count": 19,
   "metadata": {
    "colab": {
     "base_uri": "https://localhost:8080/"
    },
    "id": "ljMyXRksArFu",
    "outputId": "2da98620-ec50-45cb-9708-596a3b3617b1"
   },
   "outputs": [
    {
     "data": {
      "image/png": "[encoded data removed]",
      "text/plain": [
       "<Figure size 432x288 with 1 Axes>"
      ]
     },
     "metadata": {
      "needs_background": "light"
     },
     "output_type": "display_data"
    }
   ],
   "source": [
    "#Calculate predicted probabilities \n",
    "y_prob_base = tree_model_base.predict_proba(X_test)[:, 1]\n",
    "train_prob_base = tree_model_base.predict_proba(X_train)[:, 1]\n",
    "\n",
    "#Calculate the precision-recall curve and average precision score:\n",
    "precision, recall, _ = precision_recall_curve(y_test, y_prob_base)\n",
    "\n",
    "#Plot the precision-recall curve:\n",
    "plt.figure()\n",
    "plt.step(recall, precision, color='b', alpha=0.5, where='post')\n",
    "plt.fill_between(recall, precision, step='post', alpha=0.2, color='b')\n",
    "plt.xlabel('Recall')\n",
    "plt.ylabel('Precision')\n",
    "plt.ylim([0.0, 1.05])\n",
    "plt.xlim([0.0, 1.0])\n",
    "plt.show()"
   ]
  },
  {
   "cell_type": "markdown",
   "metadata": {
    "id": "qf8xEGvIArFu"
   },
   "source": [
    "The baseline decision tree classifier achieved a **train F1-score** of **1.0** and a **test F1-score** of **0.75**.\n",
    "\n",
    "Overall, the decision tree classifier is performing well on the training data, but it is not generalizing well to the test data and is likely due to overfitting. The confusion matrix shows my model is misclassifying a significant number of negative instances as positive instances."
   ]
  },
  {
   "cell_type": "markdown",
   "metadata": {
    "id": "JYSVu61oArFu"
   },
   "source": [
    "I will run another Decision Tree Classifier this time tuning it with a max depth of 7."
   ]
  },
  {
   "cell_type": "markdown",
   "metadata": {
    "id": "oThxsE8aArFv"
   },
   "source": [
    "### Decision Tree with max depth of 7"
   ]
  },
  {
   "cell_type": "code",
   "execution_count": 20,
   "metadata": {
    "colab": {
     "base_uri": "https://localhost:8080/"
    },
    "id": "HYbdtz-tArFv",
    "outputId": "1714a3dc-3d3f-4c60-dddc-134c2534035a",
    "scrolled": false
   },
   "outputs": [
    {
     "name": "stdout",
     "output_type": "stream",
     "text": [
      "Train F1-Score: 0.8280921467339363\n",
      "Test F1-Score: 0.8280138278051206\n",
      "Classification Report:\n",
      "               precision    recall  f1-score   support\n",
      "\n",
      "           0       0.63      0.39      0.48    539599\n",
      "           1       0.77      0.90      0.83   1217634\n",
      "\n",
      "    accuracy                           0.74   1757233\n",
      "   macro avg       0.70      0.65      0.66   1757233\n",
      "weighted avg       0.73      0.74      0.72   1757233\n",
      "\n",
      "Confusion Matrix:\n",
      "[[ 212983  326616]\n",
      " [ 126614 1091020]]\n"
     ]
    }
   ],
   "source": [
    "#instantiate a DecisionTreeClassifier with a max_depth of 7\n",
    "tree_model = DecisionTreeClassifier(max_depth=7,random_state=42)\n",
    "\n",
    "#fit the model on the train data\n",
    "tree_model.fit(X_train, y_train)\n",
    "\n",
    "#make predictions on test and train data\n",
    "y_pred = tree_model.predict(X_test)\n",
    "tree_train_pred = tree_model.predict(X_train)\n",
    "\n",
    "cm = confusion_matrix(y_test,y_pred)\n",
    "\n",
    "#print f1 scores\n",
    "print(\"Train F1-Score:\", f1_score(y_train, tree_train_pred))\n",
    "print(\"Test F1-Score:\", f1_score(y_test, y_pred))\n",
    "# print classification report\n",
    "print(\"Classification Report:\\n\", classification_report(y_test, y_pred))\n",
    "# print confusion matrix\n",
    "print(\"Confusion Matrix:\")\n",
    "print(cm)"
   ]
  },
  {
   "cell_type": "code",
   "execution_count": 21,
   "metadata": {
    "colab": {
     "base_uri": "https://localhost:8080/"
    },
    "id": "qicO_q0EArFv",
    "outputId": "1e383ddc-9051-47b3-f079-143f878c0bde"
   },
   "outputs": [
    {
     "data": {
      "image/png": "[encoded data removed]",
      "text/plain": [
       "<Figure size 432x288 with 1 Axes>"
      ]
     },
     "metadata": {
      "needs_background": "light"
     },
     "output_type": "display_data"
    }
   ],
   "source": [
    "#Calculate predicted probabilities \n",
    "y_prob = tree_model.predict_proba(X_test)[:, 1]\n",
    "train_prob = tree_model.predict_proba(X_train)[:, 1]\n",
    "\n",
    "#Calculate the precision-recall curve and average precision score:\n",
    "precision, recall, _ = precision_recall_curve(y_test, y_prob)\n",
    "\n",
    "#Plot the precision-recall curve:\n",
    "plt.figure()\n",
    "plt.step(recall, precision, color='b', alpha=0.5, where='post')\n",
    "plt.fill_between(recall, precision, step='post', alpha=0.2, color='b')\n",
    "plt.xlabel('Recall')\n",
    "plt.ylabel('Precision')\n",
    "plt.ylim([0.0, 1.05])\n",
    "plt.xlim([0.0, 1.0])\n",
    "plt.show()"
   ]
  },
  {
   "cell_type": "markdown",
   "metadata": {
    "id": "ltzYbR4qArFv"
   },
   "source": [
    "Lets compare the tuned decision tree and the baseline"
   ]
  },
  {
   "cell_type": "markdown",
   "metadata": {
    "id": "d1vXZy7AArFv"
   },
   "source": [
    "The decision tree with a max depth of 7 is performing well on both the training and test data\n",
    "\n",
    "- **0.8281**: The F1-score on the training data  is lower than the perfect 1.0 on the base. This indicates that the model is still capturing a good portion of the training data's positive instances.\n",
    "\n",
    "- **0.8280**: The F1-score on the test data is indicating good generalization to new data.\n",
    "\n",
    "The decision tree is performing better than the baseline model in both precision and recall for both classes. The F1-scores for both classes have improved and maintained a balanced performance, indicating better generalization to new data.The confusion matrix on my second model also shows fewer misclassifications, particularly for class 0.\n",
    "\n",
    "My decision tree with a max_depth of 7 seems to be an improvement over my baseline model, as it achieves higher precision, recall, and F1-scores on both classes while maintaining good generalization to new data."
   ]
  },
  {
   "cell_type": "markdown",
   "metadata": {
    "id": "k_u1vHQMArFv"
   },
   "source": [
    "***\n",
    "## XGBoost Classifier"
   ]
  },
  {
   "cell_type": "markdown",
   "metadata": {
    "id": "54coE-UzArFv"
   },
   "source": [
    "I decided on using an XGBoost Classifier as my final model because it combines multiple decision trees to improve the performance. It is designed to handle imbalanced data which applies for my dataset."
   ]
  },
  {
   "cell_type": "code",
   "execution_count": 24,
   "metadata": {
    "colab": {
     "base_uri": "https://localhost:8080/"
    },
    "id": "lwIfQgOoArFv",
    "outputId": "9603f29e-1d0c-4aa8-a653-2c1e06a055f8",
    "scrolled": false
   },
   "outputs": [
    {
     "name": "stdout",
     "output_type": "stream",
     "text": [
      "[11:57:00] WARNING: C:\\Users\\Administrator\\workspace\\xgboost-win64_release_1.2.0\\src\\gbm\\gbtree.cc:139: Tree method is automatically selected to be 'approx' for faster speed. To use old behavior (exact greedy algorithm on single machine), set tree_method to 'exact'.\n",
      "Test F1-Score: 0.8389293717162665\n",
      "Classification Report:\n",
      "               precision    recall  f1-score   support\n",
      "\n",
      "           0       0.67      0.44      0.53    539599\n",
      "           1       0.78      0.90      0.84   1217634\n",
      "\n",
      "    accuracy                           0.76   1757233\n",
      "   macro avg       0.72      0.67      0.68   1757233\n",
      "weighted avg       0.75      0.76      0.74   1757233\n",
      "\n",
      "Confusion Matrix:\n",
      "[[ 235171  304428]\n",
      " [ 117871 1099763]]\n"
     ]
    }
   ],
   "source": [
    "# Instatiate a XGB model\n",
    "final_model = xgb.XGBClassifier(random_state=42)\n",
    "\n",
    "# Train the model\n",
    "final_model.fit(X_train, y_train)\n",
    "\n",
    "# Evaluate the model on the test set\n",
    "y_pred = final_model.predict(X_test)\n",
    "\n",
    "cm = confusion_matrix(y_test,y_pred)\n",
    "\n",
    "#print f1 scores\n",
    "print(\"Test F1-Score:\", f1_score(y_test, y_pred))\n",
    "# print classification report\n",
    "print(\"Classification Report:\\n\", classification_report(y_test, y_pred))\n",
    "# print confusion matrix\n",
    "print(\"Confusion Matrix:\")\n",
    "print(cm)"
   ]
  },
  {
   "cell_type": "code",
   "execution_count": 26,
   "metadata": {
    "colab": {
     "base_uri": "https://localhost:8080/"
    },
    "id": "wjsqy4TIArFw",
    "outputId": "08f533f6-3370-45ff-8d3f-6f211b4f6842"
   },
   "outputs": [
    {
     "data": {
      "image/png": "[encoded data removed]",
      "text/plain": [
       "<Figure size 432x288 with 1 Axes>"
      ]
     },
     "metadata": {
      "needs_background": "light"
     },
     "output_type": "display_data"
    }
   ],
   "source": [
    "#Calculate predicted probabilities \n",
    "y_prob = final_model.predict_proba(X_test)[:, 1]\n",
    "train_prob = final_model.predict_proba(X_train)[:, 1]\n",
    "\n",
    "#Calculate the precision-recall curve and average precision score:\n",
    "precision, recall, _ = precision_recall_curve(y_test, y_prob)\n",
    "\n",
    "#Plot the precision-recall curve:\n",
    "plt.figure()\n",
    "plt.step(recall, precision, color='b', alpha=0.5, where='post')\n",
    "plt.fill_between(recall, precision, step='post', alpha=0.2, color='b')\n",
    "plt.xlabel('Recall')\n",
    "plt.ylabel('Precision')\n",
    "plt.ylim([0.0, 1.05])\n",
    "plt.xlim([0.0, 1.0])\n",
    "plt.show()"
   ]
  },
  {
   "cell_type": "markdown",
   "metadata": {
    "id": "9ngF16HUArFw"
   },
   "source": [
    "The XGBoost model has the best overall performance with the highest F1-Score, balanced precision and recall. This indicates that the XGBoost model is most effective in correctly classifying instances in both classes while keeping a balance between precision and recall"
   ]
  },
  {
   "cell_type": "markdown",
   "metadata": {
    "id": "lqtOlJH3ArFw"
   },
   "source": [
    "Next lets check the feature imporantance from the XGBoost model"
   ]
  },
  {
   "cell_type": "code",
   "execution_count": 27,
   "metadata": {
    "colab": {
     "base_uri": "https://localhost:8080/",
     "height": 363
    },
    "id": "jcnT6uSFArFw",
    "outputId": "28762b85-a334-46e4-e47a-b879be162985"
   },
   "outputs": [
    {
     "data": {
      "text/html": [
       "<div>\n",
       "<style scoped>\n",
       "    .dataframe tbody tr th:only-of-type {\n",
       "        vertical-align: middle;\n",
       "    }\n",
       "\n",
       "    .dataframe tbody tr th {\n",
       "        vertical-align: top;\n",
       "    }\n",
       "\n",
       "    .dataframe thead th {\n",
       "        text-align: right;\n",
       "    }\n",
       "</style>\n",
       "<table border=\"1\" class=\"dataframe\">\n",
       "  <thead>\n",
       "    <tr style=\"text-align: right;\">\n",
       "      <th></th>\n",
       "      <th>Feature</th>\n",
       "      <th>Importance</th>\n",
       "    </tr>\n",
       "  </thead>\n",
       "  <tbody>\n",
       "    <tr>\n",
       "      <th>7</th>\n",
       "      <td>order_number</td>\n",
       "      <td>0.468421</td>\n",
       "    </tr>\n",
       "    <tr>\n",
       "      <th>13</th>\n",
       "      <td>avg_prod_position</td>\n",
       "      <td>0.184234</td>\n",
       "    </tr>\n",
       "    <tr>\n",
       "      <th>5</th>\n",
       "      <td>add_to_cart_order</td>\n",
       "      <td>0.094996</td>\n",
       "    </tr>\n",
       "    <tr>\n",
       "      <th>12</th>\n",
       "      <td>basket_size</td>\n",
       "      <td>0.055486</td>\n",
       "    </tr>\n",
       "    <tr>\n",
       "      <th>2</th>\n",
       "      <td>department_id</td>\n",
       "      <td>0.050896</td>\n",
       "    </tr>\n",
       "    <tr>\n",
       "      <th>10</th>\n",
       "      <td>days_since_prior_order</td>\n",
       "      <td>0.032285</td>\n",
       "    </tr>\n",
       "    <tr>\n",
       "      <th>3</th>\n",
       "      <td>organic_produce</td>\n",
       "      <td>0.027546</td>\n",
       "    </tr>\n",
       "    <tr>\n",
       "      <th>14</th>\n",
       "      <td>avg_days_since_last_order_product</td>\n",
       "      <td>0.026864</td>\n",
       "    </tr>\n",
       "    <tr>\n",
       "      <th>1</th>\n",
       "      <td>aisle_id</td>\n",
       "      <td>0.026461</td>\n",
       "    </tr>\n",
       "    <tr>\n",
       "      <th>0</th>\n",
       "      <td>product_id</td>\n",
       "      <td>0.012322</td>\n",
       "    </tr>\n",
       "  </tbody>\n",
       "</table>\n",
       "</div>"
      ],
      "text/plain": [
       "                              Feature  Importance\n",
       "7                        order_number    0.468421\n",
       "13                  avg_prod_position    0.184234\n",
       "5                   add_to_cart_order    0.094996\n",
       "12                        basket_size    0.055486\n",
       "2                       department_id    0.050896\n",
       "10             days_since_prior_order    0.032285\n",
       "3                     organic_produce    0.027546\n",
       "14  avg_days_since_last_order_product    0.026864\n",
       "1                            aisle_id    0.026461\n",
       "0                          product_id    0.012322"
      ]
     },
     "execution_count": 27,
     "metadata": {},
     "output_type": "execute_result"
    }
   ],
   "source": [
    "# Get feature importances\n",
    "importances = final_model.feature_importances_\n",
    "\n",
    "# Get feature names\n",
    "feature_names = X_train.columns.tolist()\n",
    "\n",
    "# Create a DataFrame to display feature importances\n",
    "importance_df = pd.DataFrame({'Feature': feature_names, 'Importance': importances})\n",
    "\n",
    "# Sort the DataFrame by importance\n",
    "importance_df = importance_df.sort_values(by='Importance', ascending=False).head(10)\n",
    "\n",
    "importance_df"
   ]
  },
  {
   "cell_type": "markdown",
   "metadata": {
    "id": "coWF1iKEArFw"
   },
   "source": [
    "Now I will take those top 10 features and run them through a logistic regression to get coefficents and odds ratios"
   ]
  },
  {
   "cell_type": "markdown",
   "metadata": {},
   "source": [
    "***\n",
    "## Logistic Regression - for feature interpretability"
   ]
  },
  {
   "cell_type": "code",
   "execution_count": 28,
   "metadata": {
    "colab": {
     "base_uri": "https://localhost:8080/"
    },
    "id": "scaApBZAArFw",
    "outputId": "bda65eb9-286b-43be-e021-27f1aff183ea",
    "scrolled": true
   },
   "outputs": [
    {
     "name": "stdout",
     "output_type": "stream",
     "text": [
      "Test F1-Score: 0.8234037606440175\n",
      "Classification Report:\n",
      "               precision    recall  f1-score   support\n",
      "\n",
      "           0       0.62      0.26      0.36    539599\n",
      "           1       0.74      0.93      0.82   1217634\n",
      "\n",
      "    accuracy                           0.72   1757233\n",
      "   macro avg       0.68      0.59      0.59   1757233\n",
      "weighted avg       0.70      0.72      0.68   1757233\n",
      "\n",
      "Confusion Matrix:\n",
      "[[ 137813  401786]\n",
      " [  84334 1133300]]\n"
     ]
    }
   ],
   "source": [
    "# Select the top features from my xgb model\n",
    "features = [\n",
    "    'order_number',\n",
    "    'avg_prod_position',\n",
    "    'add_to_cart_order',\n",
    "    'department_id',\n",
    "    'basket_size',\n",
    "    'organic_produce',\n",
    "    'avg_days_since_last_order_product',\n",
    "    'days_since_prior_order',\n",
    "    'product_id'\n",
    "]\n",
    "\n",
    "# Create a new DataFrame with only the selected features\n",
    "X_train_xgb = X_train[features]\n",
    "X_test_xgb = X_test[features]\n",
    "\n",
    "# Instantiate the LogisticRegression model\n",
    "logreg_model = LogisticRegression(penalty='none',random_state=42)\n",
    "\n",
    "logreg_model.fit(X_train_xgb, y_train)\n",
    "\n",
    "# Fit the model on the selected features\n",
    "logreg_test_pred = logreg_model.predict(X_test_xgb)\n",
    "\n",
    "cm = confusion_matrix(y_test,logreg_test_pred)\n",
    "\n",
    "print(\"Test F1-Score:\", f1_score(y_test, logreg_test_pred))\n",
    "\n",
    "# Display classification report\n",
    "print(\"Classification Report:\\n\", classification_report(y_test, logreg_test_pred))\n",
    "# print confusion matrix\n",
    "print(\"Confusion Matrix:\")\n",
    "print(cm)"
   ]
  },
  {
   "cell_type": "code",
   "execution_count": 29,
   "metadata": {
    "colab": {
     "base_uri": "https://localhost:8080/",
     "height": 331
    },
    "id": "jcLd1UJqArFw",
    "outputId": "b1a4b1e2-cc99-41b2-e6b2-bc0e1d61adf2"
   },
   "outputs": [
    {
     "data": {
      "text/html": [
       "<div>\n",
       "<style scoped>\n",
       "    .dataframe tbody tr th:only-of-type {\n",
       "        vertical-align: middle;\n",
       "    }\n",
       "\n",
       "    .dataframe tbody tr th {\n",
       "        vertical-align: top;\n",
       "    }\n",
       "\n",
       "    .dataframe thead th {\n",
       "        text-align: right;\n",
       "    }\n",
       "</style>\n",
       "<table border=\"1\" class=\"dataframe\">\n",
       "  <thead>\n",
       "    <tr style=\"text-align: right;\">\n",
       "      <th></th>\n",
       "      <th>Feature</th>\n",
       "      <th>Coefficient</th>\n",
       "      <th>Odds Ratio</th>\n",
       "    </tr>\n",
       "  </thead>\n",
       "  <tbody>\n",
       "    <tr>\n",
       "      <th>4</th>\n",
       "      <td>basket_size</td>\n",
       "      <td>0.096076</td>\n",
       "      <td>1.100843</td>\n",
       "    </tr>\n",
       "    <tr>\n",
       "      <th>6</th>\n",
       "      <td>avg_days_since_last_order_product</td>\n",
       "      <td>0.043866</td>\n",
       "      <td>1.044842</td>\n",
       "    </tr>\n",
       "    <tr>\n",
       "      <th>0</th>\n",
       "      <td>order_number</td>\n",
       "      <td>0.041746</td>\n",
       "      <td>1.042630</td>\n",
       "    </tr>\n",
       "    <tr>\n",
       "      <th>5</th>\n",
       "      <td>organic_produce</td>\n",
       "      <td>0.013787</td>\n",
       "      <td>1.013883</td>\n",
       "    </tr>\n",
       "    <tr>\n",
       "      <th>7</th>\n",
       "      <td>days_since_prior_order</td>\n",
       "      <td>0.008752</td>\n",
       "      <td>1.008791</td>\n",
       "    </tr>\n",
       "    <tr>\n",
       "      <th>8</th>\n",
       "      <td>product_id</td>\n",
       "      <td>0.000007</td>\n",
       "      <td>1.000007</td>\n",
       "    </tr>\n",
       "    <tr>\n",
       "      <th>3</th>\n",
       "      <td>department_id</td>\n",
       "      <td>-0.013039</td>\n",
       "      <td>0.987045</td>\n",
       "    </tr>\n",
       "    <tr>\n",
       "      <th>1</th>\n",
       "      <td>avg_prod_position</td>\n",
       "      <td>-0.070386</td>\n",
       "      <td>0.932034</td>\n",
       "    </tr>\n",
       "    <tr>\n",
       "      <th>2</th>\n",
       "      <td>add_to_cart_order</td>\n",
       "      <td>-0.073420</td>\n",
       "      <td>0.929210</td>\n",
       "    </tr>\n",
       "  </tbody>\n",
       "</table>\n",
       "</div>"
      ],
      "text/plain": [
       "                             Feature  Coefficient  Odds Ratio\n",
       "4                        basket_size     0.096076    1.100843\n",
       "6  avg_days_since_last_order_product     0.043866    1.044842\n",
       "0                       order_number     0.041746    1.042630\n",
       "5                    organic_produce     0.013787    1.013883\n",
       "7             days_since_prior_order     0.008752    1.008791\n",
       "8                         product_id     0.000007    1.000007\n",
       "3                      department_id    -0.013039    0.987045\n",
       "1                  avg_prod_position    -0.070386    0.932034\n",
       "2                  add_to_cart_order    -0.073420    0.929210"
      ]
     },
     "execution_count": 29,
     "metadata": {},
     "output_type": "execute_result"
    }
   ],
   "source": [
    "# Geting the coefficients from the logistic Regression model\n",
    "coefficients = logreg_model.coef_[0]\n",
    "\n",
    "# Exponentiate the coefficients to interpret them as odds ratios\n",
    "odds_ratios = np.exp(coefficients)\n",
    "\n",
    "# Create a DataFrame to associate feature names with their coefficients and odds ratios\n",
    "coefficients_df = pd.DataFrame({'Feature': features, 'Coefficient': coefficients, 'Odds Ratio': odds_ratios})\n",
    "\n",
    "# Print the coefficients and odds ratios\n",
    "coefficients_df.sort_values(by=['Coefficient', 'Odds Ratio'],ascending=False)"
   ]
  }
 ],
 "metadata": {
  "accelerator": "GPU",
  "colab": {
   "gpuType": "T4",
   "provenance": []
  },
  "kernelspec": {
   "display_name": "Python 3",
   "language": "python",
   "name": "python3"
  },
  "language_info": {
   "codemirror_mode": {
    "name": "ipython",
    "version": 3
   },
   "file_extension": ".py",
   "mimetype": "text/x-python",
   "name": "python",
   "nbconvert_exporter": "python",
   "pygments_lexer": "ipython3",
   "version": "3.8.5"
  }
 },
 "nbformat": 4,
 "nbformat_minor": 1
}
